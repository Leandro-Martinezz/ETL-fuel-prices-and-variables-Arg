{
 "cells": [
  {
   "cell_type": "markdown",
   "id": "7c4ecf70",
   "metadata": {},
   "source": [
    "This ipynb file is intended to perform some tests and analysis, which are not performed in main.py to keep it as clean and tidy as possible.\n",
    "- Perform exploratory analysis.\n",
    "- Function testing.\n",
    "- Understand the initial structure of the data and its values.\n",
    "\n",
    "\n"
   ]
  },
  {
   "cell_type": "code",
   "execution_count": 67,
   "id": "5ec41dcd",
   "metadata": {},
   "outputs": [],
   "source": [
    "import requests \n",
    "from datetime import datetime\n",
    "import pandas as pd\n",
    "import numpy as np\n",
    "import logging\n",
    "import matplotlib.pyplot as plt\n",
    "import seaborn as sns\n",
    "\n",
    "logging.basicConfig(format='%(levelname)s: %(message)s', level=logging.INFO)\n"
   ]
  },
  {
   "cell_type": "markdown",
   "id": "d414a315",
   "metadata": {},
   "source": [
    "## *EXTRACTING DATA*"
   ]
  },
  {
   "cell_type": "code",
   "execution_count": 68,
   "id": "db17bc14",
   "metadata": {},
   "outputs": [],
   "source": [
    "#  This function extracts data from a URL, with logging and exception handling.\n",
    "def extract_api(url, api_key=None ,params=None, dict_key=None):\n",
    "    try :\n",
    "        response = requests.get(url)\n",
    "        response.raise_for_status()\n",
    "        data = response.json()\n",
    "        logging.info(\"data successfully obtained\")\n",
    "        if dict_key in data:\n",
    "            return pd.DataFrame(data[dict_key])\n",
    "        else:\n",
    "            return pd.DataFrame(data)\n",
    "    except requests.exceptions.RequestException as e:\n",
    "        logging.error(f\"Error fetching data: {e}\")\n",
    "        return None\n",
    "    except KeyError as e:\n",
    "        logging.error(f\"Key '{dict_key}' not found in response: {e}\")\n",
    "        return None\n",
    "\n"
   ]
  },
  {
   "cell_type": "markdown",
   "id": "29b13fa2",
   "metadata": {},
   "source": [
    "##### *HISTORIC CRUDE OIL PRICE (BRENT)*"
   ]
  },
  {
   "cell_type": "code",
   "execution_count": 69,
   "id": "d735a80f",
   "metadata": {},
   "outputs": [],
   "source": [
    "\n",
    "api_key = '5ab63390c0512057573ddd24139323ef'\n",
    "\n",
    "crude_oil_url = f\"https://api.stlouisfed.org/fred/series/observations?series_id=POILBREUSDM&api_key={api_key}&file_type=json\"\n",
    "\n",
    "params = {\n",
    "        'series_id': 'POILBREUSDM',\n",
    "        'file_type': 'json',\n",
    "        'observation_start': '2010-01-01',\n",
    "        'observation_end': datetime.now().strftime('%Y-%m-%d')\n",
    "    }\n"
   ]
  },
  {
   "cell_type": "code",
   "execution_count": 70,
   "id": "950ef991",
   "metadata": {},
   "outputs": [
    {
     "name": "stderr",
     "output_type": "stream",
     "text": [
      "INFO: data successfully obtained\n"
     ]
    }
   ],
   "source": [
    "crude_oil_df = extract_api(crude_oil_url, api_key, params, dict_key='observations')"
   ]
  },
  {
   "cell_type": "code",
   "execution_count": 71,
   "id": "12122704",
   "metadata": {},
   "outputs": [
    {
     "data": {
      "text/plain": [
       "pandas.core.frame.DataFrame"
      ]
     },
     "execution_count": 71,
     "metadata": {},
     "output_type": "execute_result"
    }
   ],
   "source": [
    "type(crude_oil_df)"
   ]
  },
  {
   "cell_type": "markdown",
   "id": "e49d6a73",
   "metadata": {},
   "source": [
    "##### *HISTORIC DOLAR PRICE (BLUE) - ARGENTINA DATOS*"
   ]
  },
  {
   "cell_type": "code",
   "execution_count": 72,
   "id": "69e127e6",
   "metadata": {},
   "outputs": [],
   "source": [
    "### DOLAR API ###\n",
    "\n",
    "dolar_url = \"https://api.argentinadatos.com/v1/cotizaciones/dolares\"\n"
   ]
  },
  {
   "cell_type": "code",
   "execution_count": 73,
   "id": "ad684396",
   "metadata": {},
   "outputs": [
    {
     "name": "stderr",
     "output_type": "stream",
     "text": [
      "INFO: data successfully obtained\n"
     ]
    }
   ],
   "source": [
    "dolar_df = extract_api(dolar_url)"
   ]
  },
  {
   "cell_type": "markdown",
   "id": "44ea9c47",
   "metadata": {},
   "source": [
    "##### *HISTORIC FUEL PRICES IN ARGENTINA*\n"
   ]
  },
  {
   "cell_type": "code",
   "execution_count": 74,
   "id": "0407a321",
   "metadata": {},
   "outputs": [],
   "source": [
    "hist_fuel_prices_arg = pd.read_csv(\"../src/precios-historicos.csv\", encoding='latin-1')"
   ]
  },
  {
   "cell_type": "code",
   "execution_count": 75,
   "id": "155489c5",
   "metadata": {},
   "outputs": [
    {
     "data": {
      "text/html": [
       "<div>\n",
       "<style scoped>\n",
       "    .dataframe tbody tr th:only-of-type {\n",
       "        vertical-align: middle;\n",
       "    }\n",
       "\n",
       "    .dataframe tbody tr th {\n",
       "        vertical-align: top;\n",
       "    }\n",
       "\n",
       "    .dataframe thead th {\n",
       "        text-align: right;\n",
       "    }\n",
       "</style>\n",
       "<table border=\"1\" class=\"dataframe\">\n",
       "  <thead>\n",
       "    <tr style=\"text-align: right;\">\n",
       "      <th></th>\n",
       "      <th>ï»¿idempresa</th>\n",
       "      <th>empresa</th>\n",
       "      <th>direccion</th>\n",
       "      <th>localidad</th>\n",
       "      <th>provincia</th>\n",
       "      <th>idproducto</th>\n",
       "      <th>producto</th>\n",
       "      <th>idtipohorario</th>\n",
       "      <th>tipohorario</th>\n",
       "      <th>precio</th>\n",
       "      <th>fecha_vigencia</th>\n",
       "      <th>idempresabandera</th>\n",
       "      <th>empresabandera</th>\n",
       "      <th>latitud</th>\n",
       "      <th>longitud</th>\n",
       "      <th>geojson</th>\n",
       "      <th>anio</th>\n",
       "      <th>mes</th>\n",
       "    </tr>\n",
       "  </thead>\n",
       "  <tbody>\n",
       "    <tr>\n",
       "      <th>0</th>\n",
       "      <td>1376</td>\n",
       "      <td>10 DE SETIEMBRE S.A.</td>\n",
       "      <td>Av. Mosconi 299</td>\n",
       "      <td>LOMAS DEL MIRADOR</td>\n",
       "      <td>BUENOS AIRES</td>\n",
       "      <td>19</td>\n",
       "      <td>Gas Oil Grado 2</td>\n",
       "      <td>2</td>\n",
       "      <td>Diurno</td>\n",
       "      <td>985.0</td>\n",
       "      <td>01/04/2024 10:11</td>\n",
       "      <td>28</td>\n",
       "      <td>PUMA</td>\n",
       "      <td>-34.658476</td>\n",
       "      <td>-58.529443</td>\n",
       "      <td>{\"type\":\"Point\",\"coordinates\":[-58.529443,-34....</td>\n",
       "      <td>2024</td>\n",
       "      <td>4</td>\n",
       "    </tr>\n",
       "    <tr>\n",
       "      <th>1</th>\n",
       "      <td>1376</td>\n",
       "      <td>10 DE SETIEMBRE S.A.</td>\n",
       "      <td>Av. Mosconi 299</td>\n",
       "      <td>LOMAS DEL MIRADOR</td>\n",
       "      <td>BUENOS AIRES</td>\n",
       "      <td>19</td>\n",
       "      <td>Gas Oil Grado 2</td>\n",
       "      <td>3</td>\n",
       "      <td>Nocturno</td>\n",
       "      <td>985.0</td>\n",
       "      <td>01/04/2024 10:11</td>\n",
       "      <td>28</td>\n",
       "      <td>PUMA</td>\n",
       "      <td>-34.658476</td>\n",
       "      <td>-58.529443</td>\n",
       "      <td>{\"type\":\"Point\",\"coordinates\":[-58.529443,-34....</td>\n",
       "      <td>2024</td>\n",
       "      <td>4</td>\n",
       "    </tr>\n",
       "    <tr>\n",
       "      <th>2</th>\n",
       "      <td>1376</td>\n",
       "      <td>10 DE SETIEMBRE S.A.</td>\n",
       "      <td>Av. Mosconi 299</td>\n",
       "      <td>LOMAS DEL MIRADOR</td>\n",
       "      <td>BUENOS AIRES</td>\n",
       "      <td>19</td>\n",
       "      <td>Gas Oil Grado 2</td>\n",
       "      <td>2</td>\n",
       "      <td>Diurno</td>\n",
       "      <td>1080.0</td>\n",
       "      <td>01/07/2024 09:43</td>\n",
       "      <td>28</td>\n",
       "      <td>PUMA</td>\n",
       "      <td>-34.658476</td>\n",
       "      <td>-58.529443</td>\n",
       "      <td>{\"type\":\"Point\",\"coordinates\":[-58.529443,-34....</td>\n",
       "      <td>2024</td>\n",
       "      <td>7</td>\n",
       "    </tr>\n",
       "    <tr>\n",
       "      <th>3</th>\n",
       "      <td>1376</td>\n",
       "      <td>10 DE SETIEMBRE S.A.</td>\n",
       "      <td>Av. Mosconi 299</td>\n",
       "      <td>LOMAS DEL MIRADOR</td>\n",
       "      <td>BUENOS AIRES</td>\n",
       "      <td>19</td>\n",
       "      <td>Gas Oil Grado 2</td>\n",
       "      <td>3</td>\n",
       "      <td>Nocturno</td>\n",
       "      <td>1080.0</td>\n",
       "      <td>01/07/2024 09:43</td>\n",
       "      <td>28</td>\n",
       "      <td>PUMA</td>\n",
       "      <td>-34.658476</td>\n",
       "      <td>-58.529443</td>\n",
       "      <td>{\"type\":\"Point\",\"coordinates\":[-58.529443,-34....</td>\n",
       "      <td>2024</td>\n",
       "      <td>7</td>\n",
       "    </tr>\n",
       "    <tr>\n",
       "      <th>4</th>\n",
       "      <td>1376</td>\n",
       "      <td>10 DE SETIEMBRE S.A.</td>\n",
       "      <td>Av. Mosconi 299</td>\n",
       "      <td>LOMAS DEL MIRADOR</td>\n",
       "      <td>BUENOS AIRES</td>\n",
       "      <td>19</td>\n",
       "      <td>Gas Oil Grado 2</td>\n",
       "      <td>2</td>\n",
       "      <td>Diurno</td>\n",
       "      <td>1108.0</td>\n",
       "      <td>01/08/2024 13:40</td>\n",
       "      <td>28</td>\n",
       "      <td>PUMA</td>\n",
       "      <td>-34.658476</td>\n",
       "      <td>-58.529443</td>\n",
       "      <td>{\"type\":\"Point\",\"coordinates\":[-58.529443,-34....</td>\n",
       "      <td>2024</td>\n",
       "      <td>8</td>\n",
       "    </tr>\n",
       "  </tbody>\n",
       "</table>\n",
       "</div>"
      ],
      "text/plain": [
       "   ï»¿idempresa               empresa        direccion          localidad  \\\n",
       "0          1376  10 DE SETIEMBRE S.A.  Av. Mosconi 299  LOMAS DEL MIRADOR   \n",
       "1          1376  10 DE SETIEMBRE S.A.  Av. Mosconi 299  LOMAS DEL MIRADOR   \n",
       "2          1376  10 DE SETIEMBRE S.A.  Av. Mosconi 299  LOMAS DEL MIRADOR   \n",
       "3          1376  10 DE SETIEMBRE S.A.  Av. Mosconi 299  LOMAS DEL MIRADOR   \n",
       "4          1376  10 DE SETIEMBRE S.A.  Av. Mosconi 299  LOMAS DEL MIRADOR   \n",
       "\n",
       "      provincia  idproducto         producto  idtipohorario tipohorario  \\\n",
       "0  BUENOS AIRES          19  Gas Oil Grado 2              2      Diurno   \n",
       "1  BUENOS AIRES          19  Gas Oil Grado 2              3    Nocturno   \n",
       "2  BUENOS AIRES          19  Gas Oil Grado 2              2      Diurno   \n",
       "3  BUENOS AIRES          19  Gas Oil Grado 2              3    Nocturno   \n",
       "4  BUENOS AIRES          19  Gas Oil Grado 2              2      Diurno   \n",
       "\n",
       "   precio    fecha_vigencia  idempresabandera empresabandera    latitud  \\\n",
       "0   985.0  01/04/2024 10:11                28           PUMA -34.658476   \n",
       "1   985.0  01/04/2024 10:11                28           PUMA -34.658476   \n",
       "2  1080.0  01/07/2024 09:43                28           PUMA -34.658476   \n",
       "3  1080.0  01/07/2024 09:43                28           PUMA -34.658476   \n",
       "4  1108.0  01/08/2024 13:40                28           PUMA -34.658476   \n",
       "\n",
       "    longitud                                            geojson  anio  mes  \n",
       "0 -58.529443  {\"type\":\"Point\",\"coordinates\":[-58.529443,-34....  2024    4  \n",
       "1 -58.529443  {\"type\":\"Point\",\"coordinates\":[-58.529443,-34....  2024    4  \n",
       "2 -58.529443  {\"type\":\"Point\",\"coordinates\":[-58.529443,-34....  2024    7  \n",
       "3 -58.529443  {\"type\":\"Point\",\"coordinates\":[-58.529443,-34....  2024    7  \n",
       "4 -58.529443  {\"type\":\"Point\",\"coordinates\":[-58.529443,-34....  2024    8  "
      ]
     },
     "execution_count": 75,
     "metadata": {},
     "output_type": "execute_result"
    }
   ],
   "source": [
    "hist_fuel_prices_arg.head()"
   ]
  },
  {
   "cell_type": "markdown",
   "id": "c7a1c083",
   "metadata": {},
   "source": [
    "##### *CURRENT FUEL PRICES IN ARGENTINA*"
   ]
  },
  {
   "cell_type": "code",
   "execution_count": 76,
   "id": "9841f52f",
   "metadata": {},
   "outputs": [],
   "source": [
    "current_fuel_prices_arg = pd.read_csv(\"../src/precios-en-surtidor vigentes.csv\", encoding='latin-1')"
   ]
  },
  {
   "cell_type": "markdown",
   "id": "e0eef090",
   "metadata": {},
   "source": [
    "##### *FUEL SALES BY SECTOR AND PROVINCE*\n"
   ]
  },
  {
   "cell_type": "code",
   "execution_count": 77,
   "id": "7cdc1efc",
   "metadata": {},
   "outputs": [],
   "source": [
    "fuel_sales = pd.read_csv(\"../src/ventas-mercado-producto-provincia.csv\", encoding='latin-1')"
   ]
  },
  {
   "cell_type": "markdown",
   "id": "2855bc46",
   "metadata": {},
   "source": [
    "## *EXPLORATORY ANALYSIS*"
   ]
  },
  {
   "cell_type": "code",
   "execution_count": 78,
   "id": "7fe7f414",
   "metadata": {},
   "outputs": [],
   "source": [
    "def expl_function(df): #  a brief analysis of each dataframe to understand its structure and values\n",
    "    logging.info(f\"SHAPE \\n {df.shape}\")\n",
    "    logging.info(f\"HEAD \\n {df.head(3)}\")\n",
    "    logging.info(f\"NULL VALUES\\n {df.isna().sum()}\")\n",
    "    logging.info(f\"COLUMNS INFO {df.info()}\")\n",
    "    "
   ]
  },
  {
   "cell_type": "markdown",
   "id": "dcd5c3ff",
   "metadata": {},
   "source": [
    "##### *CRUDE OIL*"
   ]
  },
  {
   "cell_type": "code",
   "execution_count": 79,
   "id": "bd07a00e",
   "metadata": {},
   "outputs": [
    {
     "name": "stderr",
     "output_type": "stream",
     "text": [
      "INFO: SHAPE \n",
      " (546, 4)\n",
      "INFO: HEAD \n",
      "   realtime_start realtime_end        date value\n",
      "0     2025-09-16   2025-09-16  1980-01-01     .\n",
      "1     2025-09-16   2025-09-16  1980-02-01     .\n",
      "2     2025-09-16   2025-09-16  1980-03-01     .\n",
      "INFO: NULL VALUES\n",
      " realtime_start    0\n",
      "realtime_end      0\n",
      "date              0\n",
      "value             0\n",
      "dtype: int64\n",
      "INFO: COLUMNS INFO None\n"
     ]
    },
    {
     "name": "stdout",
     "output_type": "stream",
     "text": [
      "<class 'pandas.core.frame.DataFrame'>\n",
      "RangeIndex: 546 entries, 0 to 545\n",
      "Data columns (total 4 columns):\n",
      " #   Column          Non-Null Count  Dtype \n",
      "---  ------          --------------  ----- \n",
      " 0   realtime_start  546 non-null    object\n",
      " 1   realtime_end    546 non-null    object\n",
      " 2   date            546 non-null    object\n",
      " 3   value           546 non-null    object\n",
      "dtypes: object(4)\n",
      "memory usage: 17.2+ KB\n"
     ]
    }
   ],
   "source": [
    "expl_function(crude_oil_df)"
   ]
  },
  {
   "cell_type": "code",
   "execution_count": 80,
   "id": "9aace8cd",
   "metadata": {},
   "outputs": [
    {
     "data": {
      "text/html": [
       "<div>\n",
       "<style scoped>\n",
       "    .dataframe tbody tr th:only-of-type {\n",
       "        vertical-align: middle;\n",
       "    }\n",
       "\n",
       "    .dataframe tbody tr th {\n",
       "        vertical-align: top;\n",
       "    }\n",
       "\n",
       "    .dataframe thead th {\n",
       "        text-align: right;\n",
       "    }\n",
       "</style>\n",
       "<table border=\"1\" class=\"dataframe\">\n",
       "  <thead>\n",
       "    <tr style=\"text-align: right;\">\n",
       "      <th></th>\n",
       "      <th>realtime_start</th>\n",
       "      <th>realtime_end</th>\n",
       "      <th>date</th>\n",
       "      <th>value</th>\n",
       "    </tr>\n",
       "  </thead>\n",
       "  <tbody>\n",
       "    <tr>\n",
       "      <th>0</th>\n",
       "      <td>2025-09-16</td>\n",
       "      <td>2025-09-16</td>\n",
       "      <td>1980-01-01</td>\n",
       "      <td>.</td>\n",
       "    </tr>\n",
       "    <tr>\n",
       "      <th>1</th>\n",
       "      <td>2025-09-16</td>\n",
       "      <td>2025-09-16</td>\n",
       "      <td>1980-02-01</td>\n",
       "      <td>.</td>\n",
       "    </tr>\n",
       "    <tr>\n",
       "      <th>2</th>\n",
       "      <td>2025-09-16</td>\n",
       "      <td>2025-09-16</td>\n",
       "      <td>1980-03-01</td>\n",
       "      <td>.</td>\n",
       "    </tr>\n",
       "    <tr>\n",
       "      <th>3</th>\n",
       "      <td>2025-09-16</td>\n",
       "      <td>2025-09-16</td>\n",
       "      <td>1980-04-01</td>\n",
       "      <td>.</td>\n",
       "    </tr>\n",
       "    <tr>\n",
       "      <th>4</th>\n",
       "      <td>2025-09-16</td>\n",
       "      <td>2025-09-16</td>\n",
       "      <td>1980-05-01</td>\n",
       "      <td>.</td>\n",
       "    </tr>\n",
       "    <tr>\n",
       "      <th>...</th>\n",
       "      <td>...</td>\n",
       "      <td>...</td>\n",
       "      <td>...</td>\n",
       "      <td>...</td>\n",
       "    </tr>\n",
       "    <tr>\n",
       "      <th>115</th>\n",
       "      <td>2025-09-16</td>\n",
       "      <td>2025-09-16</td>\n",
       "      <td>1989-08-01</td>\n",
       "      <td>.</td>\n",
       "    </tr>\n",
       "    <tr>\n",
       "      <th>116</th>\n",
       "      <td>2025-09-16</td>\n",
       "      <td>2025-09-16</td>\n",
       "      <td>1989-09-01</td>\n",
       "      <td>.</td>\n",
       "    </tr>\n",
       "    <tr>\n",
       "      <th>117</th>\n",
       "      <td>2025-09-16</td>\n",
       "      <td>2025-09-16</td>\n",
       "      <td>1989-10-01</td>\n",
       "      <td>.</td>\n",
       "    </tr>\n",
       "    <tr>\n",
       "      <th>118</th>\n",
       "      <td>2025-09-16</td>\n",
       "      <td>2025-09-16</td>\n",
       "      <td>1989-11-01</td>\n",
       "      <td>.</td>\n",
       "    </tr>\n",
       "    <tr>\n",
       "      <th>119</th>\n",
       "      <td>2025-09-16</td>\n",
       "      <td>2025-09-16</td>\n",
       "      <td>1989-12-01</td>\n",
       "      <td>.</td>\n",
       "    </tr>\n",
       "  </tbody>\n",
       "</table>\n",
       "<p>120 rows × 4 columns</p>\n",
       "</div>"
      ],
      "text/plain": [
       "    realtime_start realtime_end        date value\n",
       "0       2025-09-16   2025-09-16  1980-01-01     .\n",
       "1       2025-09-16   2025-09-16  1980-02-01     .\n",
       "2       2025-09-16   2025-09-16  1980-03-01     .\n",
       "3       2025-09-16   2025-09-16  1980-04-01     .\n",
       "4       2025-09-16   2025-09-16  1980-05-01     .\n",
       "..             ...          ...         ...   ...\n",
       "115     2025-09-16   2025-09-16  1989-08-01     .\n",
       "116     2025-09-16   2025-09-16  1989-09-01     .\n",
       "117     2025-09-16   2025-09-16  1989-10-01     .\n",
       "118     2025-09-16   2025-09-16  1989-11-01     .\n",
       "119     2025-09-16   2025-09-16  1989-12-01     .\n",
       "\n",
       "[120 rows x 4 columns]"
      ]
     },
     "execution_count": 80,
     "metadata": {},
     "output_type": "execute_result"
    }
   ],
   "source": [
    "crude_oil_df[crude_oil_df['value']==\".\"] \n",
    "#  we can see that there are periods where there isn't oil price, we'll drop it\n",
    "#  also we'll check dtype columns."
   ]
  },
  {
   "cell_type": "markdown",
   "id": "e16c8ef2",
   "metadata": {},
   "source": [
    "##### *HISTORIC DOLAR PRICE*"
   ]
  },
  {
   "cell_type": "code",
   "execution_count": 81,
   "id": "cb085ff0",
   "metadata": {},
   "outputs": [
    {
     "name": "stderr",
     "output_type": "stream",
     "text": [
      "INFO: SHAPE \n",
      " (27758, 4)\n",
      "INFO: HEAD \n",
      "         casa  compra  venta       fecha\n",
      "0       blue    4.00   4.00  2011-01-03\n",
      "1  mayorista    3.97   3.98  2011-01-03\n",
      "2    oficial    4.00   4.00  2011-01-03\n",
      "INFO: NULL VALUES\n",
      " casa       0\n",
      "compra    96\n",
      "venta      0\n",
      "fecha      0\n",
      "dtype: int64\n",
      "INFO: COLUMNS INFO None\n"
     ]
    },
    {
     "name": "stdout",
     "output_type": "stream",
     "text": [
      "<class 'pandas.core.frame.DataFrame'>\n",
      "RangeIndex: 27758 entries, 0 to 27757\n",
      "Data columns (total 4 columns):\n",
      " #   Column  Non-Null Count  Dtype  \n",
      "---  ------  --------------  -----  \n",
      " 0   casa    27758 non-null  object \n",
      " 1   compra  27662 non-null  float64\n",
      " 2   venta   27758 non-null  float64\n",
      " 3   fecha   27758 non-null  object \n",
      "dtypes: float64(2), object(2)\n",
      "memory usage: 867.6+ KB\n"
     ]
    }
   ],
   "source": [
    "expl_function(dolar_df)"
   ]
  },
  {
   "cell_type": "code",
   "execution_count": 82,
   "id": "5763edd0",
   "metadata": {},
   "outputs": [
    {
     "data": {
      "text/html": [
       "<div>\n",
       "<style scoped>\n",
       "    .dataframe tbody tr th:only-of-type {\n",
       "        vertical-align: middle;\n",
       "    }\n",
       "\n",
       "    .dataframe tbody tr th {\n",
       "        vertical-align: top;\n",
       "    }\n",
       "\n",
       "    .dataframe thead th {\n",
       "        text-align: right;\n",
       "    }\n",
       "</style>\n",
       "<table border=\"1\" class=\"dataframe\">\n",
       "  <thead>\n",
       "    <tr style=\"text-align: right;\">\n",
       "      <th></th>\n",
       "      <th>casa</th>\n",
       "      <th>compra</th>\n",
       "      <th>venta</th>\n",
       "      <th>fecha</th>\n",
       "    </tr>\n",
       "  </thead>\n",
       "  <tbody>\n",
       "    <tr>\n",
       "      <th>1494</th>\n",
       "      <td>blue</td>\n",
       "      <td>6.0</td>\n",
       "      <td>5.0</td>\n",
       "      <td>2012-05-15</td>\n",
       "    </tr>\n",
       "    <tr>\n",
       "      <th>1500</th>\n",
       "      <td>blue</td>\n",
       "      <td>6.0</td>\n",
       "      <td>5.0</td>\n",
       "      <td>2012-05-17</td>\n",
       "    </tr>\n",
       "    <tr>\n",
       "      <th>1562</th>\n",
       "      <td>oficial</td>\n",
       "      <td>5.0</td>\n",
       "      <td>4.0</td>\n",
       "      <td>2012-06-06</td>\n",
       "    </tr>\n",
       "    <tr>\n",
       "      <th>1565</th>\n",
       "      <td>oficial</td>\n",
       "      <td>5.0</td>\n",
       "      <td>4.0</td>\n",
       "      <td>2012-06-07</td>\n",
       "    </tr>\n",
       "    <tr>\n",
       "      <th>1568</th>\n",
       "      <td>oficial</td>\n",
       "      <td>5.0</td>\n",
       "      <td>4.0</td>\n",
       "      <td>2012-06-08</td>\n",
       "    </tr>\n",
       "    <tr>\n",
       "      <th>...</th>\n",
       "      <td>...</td>\n",
       "      <td>...</td>\n",
       "      <td>...</td>\n",
       "      <td>...</td>\n",
       "    </tr>\n",
       "    <tr>\n",
       "      <th>27103</th>\n",
       "      <td>contadoconliqui</td>\n",
       "      <td>1190.7</td>\n",
       "      <td>1189.5</td>\n",
       "      <td>2025-06-15</td>\n",
       "    </tr>\n",
       "    <tr>\n",
       "      <th>27110</th>\n",
       "      <td>contadoconliqui</td>\n",
       "      <td>1190.7</td>\n",
       "      <td>1189.5</td>\n",
       "      <td>2025-06-16</td>\n",
       "    </tr>\n",
       "    <tr>\n",
       "      <th>27334</th>\n",
       "      <td>contadoconliqui</td>\n",
       "      <td>1300.0</td>\n",
       "      <td>1269.2</td>\n",
       "      <td>2025-07-18</td>\n",
       "    </tr>\n",
       "    <tr>\n",
       "      <th>27341</th>\n",
       "      <td>contadoconliqui</td>\n",
       "      <td>1300.0</td>\n",
       "      <td>1269.2</td>\n",
       "      <td>2025-07-19</td>\n",
       "    </tr>\n",
       "    <tr>\n",
       "      <th>27348</th>\n",
       "      <td>contadoconliqui</td>\n",
       "      <td>1300.0</td>\n",
       "      <td>1269.2</td>\n",
       "      <td>2025-07-20</td>\n",
       "    </tr>\n",
       "  </tbody>\n",
       "</table>\n",
       "<p>221 rows × 4 columns</p>\n",
       "</div>"
      ],
      "text/plain": [
       "                  casa  compra   venta       fecha\n",
       "1494              blue     6.0     5.0  2012-05-15\n",
       "1500              blue     6.0     5.0  2012-05-17\n",
       "1562           oficial     5.0     4.0  2012-06-06\n",
       "1565           oficial     5.0     4.0  2012-06-07\n",
       "1568           oficial     5.0     4.0  2012-06-08\n",
       "...                ...     ...     ...         ...\n",
       "27103  contadoconliqui  1190.7  1189.5  2025-06-15\n",
       "27110  contadoconliqui  1190.7  1189.5  2025-06-16\n",
       "27334  contadoconliqui  1300.0  1269.2  2025-07-18\n",
       "27341  contadoconliqui  1300.0  1269.2  2025-07-19\n",
       "27348  contadoconliqui  1300.0  1269.2  2025-07-20\n",
       "\n",
       "[221 rows x 4 columns]"
      ]
     },
     "execution_count": 82,
     "metadata": {},
     "output_type": "execute_result"
    }
   ],
   "source": [
    "dolar_df.loc[ dolar_df['compra'] > dolar_df['venta'], : ] \n",
    "# The average will be calculated where the purchase price is higher than the sale price. \n",
    "# we'll check dtype columns."
   ]
  },
  {
   "cell_type": "markdown",
   "id": "43f11945",
   "metadata": {},
   "source": [
    "##### *HISTORIC FUEL PRICES IN ARGENTINA*\n"
   ]
  },
  {
   "cell_type": "code",
   "execution_count": 83,
   "id": "e951a836",
   "metadata": {},
   "outputs": [
    {
     "name": "stderr",
     "output_type": "stream",
     "text": [
      "INFO: SHAPE \n",
      " (3147970, 18)\n",
      "INFO: HEAD \n",
      "    ï»¿idempresa               empresa        direccion          localidad  \\\n",
      "0          1376  10 DE SETIEMBRE S.A.  Av. Mosconi 299  LOMAS DEL MIRADOR   \n",
      "1          1376  10 DE SETIEMBRE S.A.  Av. Mosconi 299  LOMAS DEL MIRADOR   \n",
      "2          1376  10 DE SETIEMBRE S.A.  Av. Mosconi 299  LOMAS DEL MIRADOR   \n",
      "\n",
      "      provincia  idproducto         producto  idtipohorario tipohorario  \\\n",
      "0  BUENOS AIRES          19  Gas Oil Grado 2              2      Diurno   \n",
      "1  BUENOS AIRES          19  Gas Oil Grado 2              3    Nocturno   \n",
      "2  BUENOS AIRES          19  Gas Oil Grado 2              2      Diurno   \n",
      "\n",
      "   precio    fecha_vigencia  idempresabandera empresabandera    latitud  \\\n",
      "0   985.0  01/04/2024 10:11                28           PUMA -34.658476   \n",
      "1   985.0  01/04/2024 10:11                28           PUMA -34.658476   \n",
      "2  1080.0  01/07/2024 09:43                28           PUMA -34.658476   \n",
      "\n",
      "    longitud                                            geojson  anio  mes  \n",
      "0 -58.529443  {\"type\":\"Point\",\"coordinates\":[-58.529443,-34....  2024    4  \n",
      "1 -58.529443  {\"type\":\"Point\",\"coordinates\":[-58.529443,-34....  2024    4  \n",
      "2 -58.529443  {\"type\":\"Point\",\"coordinates\":[-58.529443,-34....  2024    7  \n",
      "INFO: NULL VALUES\n",
      " ï»¿idempresa           0\n",
      "empresa                0\n",
      "direccion              0\n",
      "localidad              0\n",
      "provincia              0\n",
      "idproducto             0\n",
      "producto               0\n",
      "idtipohorario          0\n",
      "tipohorario            0\n",
      "precio                 0\n",
      "fecha_vigencia         0\n",
      "idempresabandera       0\n",
      "empresabandera         0\n",
      "latitud             2444\n",
      "longitud            2444\n",
      "geojson             2444\n",
      "anio                   0\n",
      "mes                    0\n",
      "dtype: int64\n",
      "INFO: COLUMNS INFO None\n"
     ]
    },
    {
     "name": "stdout",
     "output_type": "stream",
     "text": [
      "<class 'pandas.core.frame.DataFrame'>\n",
      "RangeIndex: 3147970 entries, 0 to 3147969\n",
      "Data columns (total 18 columns):\n",
      " #   Column            Dtype  \n",
      "---  ------            -----  \n",
      " 0   ï»¿idempresa      int64  \n",
      " 1   empresa           object \n",
      " 2   direccion         object \n",
      " 3   localidad         object \n",
      " 4   provincia         object \n",
      " 5   idproducto        int64  \n",
      " 6   producto          object \n",
      " 7   idtipohorario     int64  \n",
      " 8   tipohorario       object \n",
      " 9   precio            float64\n",
      " 10  fecha_vigencia    object \n",
      " 11  idempresabandera  int64  \n",
      " 12  empresabandera    object \n",
      " 13  latitud           float64\n",
      " 14  longitud          float64\n",
      " 15  geojson           object \n",
      " 16  anio              int64  \n",
      " 17  mes               int64  \n",
      "dtypes: float64(3), int64(6), object(9)\n",
      "memory usage: 432.3+ MB\n"
     ]
    }
   ],
   "source": [
    "expl_function(hist_fuel_prices_arg)"
   ]
  },
  {
   "cell_type": "code",
   "execution_count": 84,
   "id": "891b14e6",
   "metadata": {},
   "outputs": [
    {
     "data": {
      "text/plain": [
       "'31/12/2024 23:55'"
      ]
     },
     "execution_count": 84,
     "metadata": {},
     "output_type": "execute_result"
    }
   ],
   "source": [
    "hist_fuel_prices_arg.fecha_vigencia.max()\n"
   ]
  },
  {
   "cell_type": "code",
   "execution_count": 85,
   "id": "ac9c0e77",
   "metadata": {},
   "outputs": [
    {
     "data": {
      "text/plain": [
       "'01/01/0001 00:00'"
      ]
     },
     "execution_count": 85,
     "metadata": {},
     "output_type": "execute_result"
    }
   ],
   "source": [
    "hist_fuel_prices_arg.fecha_vigencia.min()"
   ]
  },
  {
   "cell_type": "markdown",
   "id": "d2532805",
   "metadata": {},
   "source": [
    "##### *CURRENT FUEL PRICES IN ARGENTINA*"
   ]
  },
  {
   "cell_type": "code",
   "execution_count": 86,
   "id": "b67241cb",
   "metadata": {},
   "outputs": [
    {
     "name": "stderr",
     "output_type": "stream",
     "text": [
      "INFO: SHAPE \n",
      " (36963, 19)\n",
      "INFO: HEAD \n",
      "   ï»¿indice_tiempo  idempresa           cuit               empresa  \\\n",
      "0          2025-06       1376  33-64337382-9  10 DE SETIEMBRE S.A.   \n",
      "1          2025-06       1376  33-64337382-9  10 DE SETIEMBRE S.A.   \n",
      "2          2025-06       1376  33-64337382-9  10 DE SETIEMBRE S.A.   \n",
      "\n",
      "         direccion          localidad     provincia    region  idproducto  \\\n",
      "0  Av. Mosconi 299  LOMAS DEL MIRADOR  BUENOS AIRES  PAMPEANA          19   \n",
      "1  Av. Mosconi 299  LOMAS DEL MIRADOR  BUENOS AIRES  PAMPEANA          19   \n",
      "2  Av. Mosconi 299  LOMAS DEL MIRADOR  BUENOS AIRES  PAMPEANA          21   \n",
      "\n",
      "          producto  idtipohorario tipohorario  precio       fecha_vigencia  \\\n",
      "0  Gas Oil Grado 2              2      Diurno  1338.0  2025-06-21 09:41:00   \n",
      "1  Gas Oil Grado 2              3    Nocturno  1338.0  2025-06-21 09:41:00   \n",
      "2  Gas Oil Grado 3              2      Diurno  1552.0  2025-06-21 09:41:00   \n",
      "\n",
      "   idempresabandera empresabandera    latitud   longitud  \\\n",
      "0                28           PUMA -34.658476 -58.529443   \n",
      "1                28           PUMA -34.658476 -58.529443   \n",
      "2                28           PUMA -34.658476 -58.529443   \n",
      "\n",
      "                                             geojson  \n",
      "0  {\"type\":\"Point\",\"coordinates\":[-58.529443,-34....  \n",
      "1  {\"type\":\"Point\",\"coordinates\":[-58.529443,-34....  \n",
      "2  {\"type\":\"Point\",\"coordinates\":[-58.529443,-34....  \n",
      "INFO: NULL VALUES\n",
      " ï»¿indice_tiempo       0\n",
      "idempresa              0\n",
      "cuit                   0\n",
      "empresa                0\n",
      "direccion              0\n",
      "localidad              0\n",
      "provincia              0\n",
      "region              7843\n",
      "idproducto             0\n",
      "producto               0\n",
      "idtipohorario          0\n",
      "tipohorario            0\n",
      "precio                 0\n",
      "fecha_vigencia         0\n",
      "idempresabandera       0\n",
      "empresabandera         0\n",
      "latitud               96\n",
      "longitud              96\n",
      "geojson               96\n",
      "dtype: int64\n",
      "INFO: COLUMNS INFO None\n"
     ]
    },
    {
     "name": "stdout",
     "output_type": "stream",
     "text": [
      "<class 'pandas.core.frame.DataFrame'>\n",
      "RangeIndex: 36963 entries, 0 to 36962\n",
      "Data columns (total 19 columns):\n",
      " #   Column            Non-Null Count  Dtype  \n",
      "---  ------            --------------  -----  \n",
      " 0   ï»¿indice_tiempo  36963 non-null  object \n",
      " 1   idempresa         36963 non-null  int64  \n",
      " 2   cuit              36963 non-null  object \n",
      " 3   empresa           36963 non-null  object \n",
      " 4   direccion         36963 non-null  object \n",
      " 5   localidad         36963 non-null  object \n",
      " 6   provincia         36963 non-null  object \n",
      " 7   region            29120 non-null  object \n",
      " 8   idproducto        36963 non-null  int64  \n",
      " 9   producto          36963 non-null  object \n",
      " 10  idtipohorario     36963 non-null  int64  \n",
      " 11  tipohorario       36963 non-null  object \n",
      " 12  precio            36963 non-null  float64\n",
      " 13  fecha_vigencia    36963 non-null  object \n",
      " 14  idempresabandera  36963 non-null  int64  \n",
      " 15  empresabandera    36963 non-null  object \n",
      " 16  latitud           36867 non-null  float64\n",
      " 17  longitud          36867 non-null  float64\n",
      " 18  geojson           36867 non-null  object \n",
      "dtypes: float64(3), int64(4), object(12)\n",
      "memory usage: 5.4+ MB\n"
     ]
    }
   ],
   "source": [
    "expl_function(current_fuel_prices_arg)"
   ]
  },
  {
   "cell_type": "code",
   "execution_count": 87,
   "id": "09bd5257",
   "metadata": {},
   "outputs": [
    {
     "data": {
      "text/plain": [
       "'2025-08-21 10:49:00'"
      ]
     },
     "execution_count": 87,
     "metadata": {},
     "output_type": "execute_result"
    }
   ],
   "source": [
    "current_fuel_prices_arg.fecha_vigencia.max()"
   ]
  },
  {
   "cell_type": "code",
   "execution_count": 88,
   "id": "2ace538a",
   "metadata": {},
   "outputs": [
    {
     "data": {
      "text/plain": [
       "'2016-06-01 11:58:00'"
      ]
     },
     "execution_count": 88,
     "metadata": {},
     "output_type": "execute_result"
    }
   ],
   "source": [
    "current_fuel_prices_arg.fecha_vigencia.min()"
   ]
  },
  {
   "cell_type": "markdown",
   "id": "ed2a8607",
   "metadata": {},
   "source": [
    "##### *FUEL SALES BY SECTOR AND PROVINCE*\n"
   ]
  },
  {
   "cell_type": "code",
   "execution_count": 89,
   "id": "870469bf",
   "metadata": {},
   "outputs": [
    {
     "name": "stderr",
     "output_type": "stream",
     "text": [
      "INFO: SHAPE \n",
      " (858241, 8)\n",
      "INFO: HEAD \n",
      "    anio  mes            producto unidad     provincia      sector  total  \\\n",
      "0  2010    1  Aerokerosene (Jet)   (m3)  Buenos Aires        Agro    0.0   \n",
      "1  2010    1  Aerokerosene (Jet)   (m3)  Buenos Aires  Al Público    0.0   \n",
      "2  2010    1  Aerokerosene (Jet)   (m3)  Buenos Aires      Estado    0.0   \n",
      "\n",
      "  indice_tiempo  \n",
      "0       2010-01  \n",
      "1       2010-01  \n",
      "2       2010-01  \n",
      "INFO: NULL VALUES\n",
      " anio             0\n",
      "mes              0\n",
      "producto         0\n",
      "unidad           0\n",
      "provincia        0\n",
      "sector           0\n",
      "total            0\n",
      "indice_tiempo    0\n",
      "dtype: int64\n",
      "INFO: COLUMNS INFO None\n"
     ]
    },
    {
     "name": "stdout",
     "output_type": "stream",
     "text": [
      "<class 'pandas.core.frame.DataFrame'>\n",
      "RangeIndex: 858241 entries, 0 to 858240\n",
      "Data columns (total 8 columns):\n",
      " #   Column         Non-Null Count   Dtype  \n",
      "---  ------         --------------   -----  \n",
      " 0   anio           858241 non-null  int64  \n",
      " 1   mes            858241 non-null  int64  \n",
      " 2   producto       858241 non-null  object \n",
      " 3   unidad         858241 non-null  object \n",
      " 4   provincia      858241 non-null  object \n",
      " 5   sector         858241 non-null  object \n",
      " 6   total          858241 non-null  float64\n",
      " 7   indice_tiempo  858241 non-null  object \n",
      "dtypes: float64(1), int64(2), object(5)\n",
      "memory usage: 52.4+ MB\n"
     ]
    }
   ],
   "source": [
    "expl_function(fuel_sales)"
   ]
  },
  {
   "cell_type": "markdown",
   "id": "4c6b7533",
   "metadata": {},
   "source": [
    "## *TRANSFORMING DATA*"
   ]
  },
  {
   "cell_type": "code",
   "execution_count": 90,
   "id": "8464d5c5",
   "metadata": {},
   "outputs": [],
   "source": [
    "def clean_crude_oil(df): \n",
    "#  this function cleans data types, missing data, spaces, and column names.\n",
    "    for column in df.columns:\n",
    "        if df[column].dtype == 'object': #  if the column is object type, strip method cleans white space\n",
    "            df[column] = df[column].str.strip()\n",
    "\n",
    "    df['value'] = df['value'].replace('.', np.nan) \n",
    "\n",
    "    df['value'] = pd.to_numeric(df['value'], errors='coerce')  # value column is converted to float\n",
    "\n",
    "    df.dropna(subset=['value'], inplace=True)\n",
    "\n",
    "    df['date'] = pd.to_datetime(df['date'], errors='coerce')\n",
    "    \n",
    "\n",
    "     # this assertion code check dtypes  and null values \n",
    "    assert df['value'].dtype in ['float64', 'int64']\n",
    "    assert df.value.isna().sum() == 0\n",
    "    assert df.date.dtype == 'datetime64[ns]'\n",
    "    \n",
    "    df = df.loc[: , ['date', 'value']]\n",
    "    \n",
    "    df.rename(columns= {'date':'fecha', 'value':'precio_crudo'}, inplace = True)\n",
    "\n",
    "    return df\n",
    "    \n"
   ]
  },
  {
   "cell_type": "code",
   "execution_count": 91,
   "id": "9bcfbbe0",
   "metadata": {},
   "outputs": [],
   "source": [
    "cleaned_crude_oil_df = clean_crude_oil(crude_oil_df)"
   ]
  },
  {
   "cell_type": "code",
   "execution_count": 92,
   "id": "623da388",
   "metadata": {},
   "outputs": [
    {
     "data": {
      "text/plain": [
       "120   1990-01-01\n",
       "121   1990-02-01\n",
       "122   1990-03-01\n",
       "123   1990-04-01\n",
       "124   1990-05-01\n",
       "Name: fecha, dtype: datetime64[ns]"
      ]
     },
     "execution_count": 92,
     "metadata": {},
     "output_type": "execute_result"
    }
   ],
   "source": [
    "cleaned_crude_oil_df.fecha.head()"
   ]
  },
  {
   "cell_type": "code",
   "execution_count": 93,
   "id": "5d66ff17",
   "metadata": {},
   "outputs": [],
   "source": [
    "def clean_dolar_price(dolar_price): \n",
    "#  this function cleans data types, missing data, spaces, and column names.\n",
    "\n",
    "    dolar_price = dolar_price.rename(columns={'casa': 'tipo'})\n",
    "\n",
    "    dolar_price['tipo'] = dolar_price['tipo'].str.strip()\n",
    "    \n",
    "    dolar_price['fecha'] = pd.to_datetime(dolar_price['fecha'], errors='coerce') #  fecha column is converted to datetime type\n",
    "\n",
    "    dolar_price.dropna(inplace=True)\n",
    "\n",
    "    dolar_price['venta'] = np.where(dolar_price['venta'] > dolar_price['compra'], dolar_price['venta'], (dolar_price['venta'] + dolar_price['compra'])/2)\n",
    "    #  in case the purchase price is higher than the sale price, the average is calculated, because this is an error.\n",
    "\n",
    "    dolar_price = dolar_price.rename(columns={'venta' : 'precio_dolar_venta'})\n",
    "    \n",
    "    dolar_price = dolar_price.loc[dolar_price['tipo'].isin(['blue', 'oficial']), ['fecha', 'tipo', 'precio_dolar_venta'] ]\n",
    "    # only the official and blue dollar types are used to simplify analysis.\n",
    "\n",
    "    assert dolar_price['fecha'].dtype == 'datetime64[ns]'\n",
    "\n",
    "    return dolar_price"
   ]
  },
  {
   "cell_type": "code",
   "execution_count": 94,
   "id": "b5edf73b",
   "metadata": {},
   "outputs": [],
   "source": [
    "cleaned_dolar_price_df = clean_dolar_price(dolar_df)"
   ]
  },
  {
   "cell_type": "code",
   "execution_count": 95,
   "id": "624ff5bb",
   "metadata": {},
   "outputs": [
    {
     "data": {
      "text/html": [
       "<div>\n",
       "<style scoped>\n",
       "    .dataframe tbody tr th:only-of-type {\n",
       "        vertical-align: middle;\n",
       "    }\n",
       "\n",
       "    .dataframe tbody tr th {\n",
       "        vertical-align: top;\n",
       "    }\n",
       "\n",
       "    .dataframe thead th {\n",
       "        text-align: right;\n",
       "    }\n",
       "</style>\n",
       "<table border=\"1\" class=\"dataframe\">\n",
       "  <thead>\n",
       "    <tr style=\"text-align: right;\">\n",
       "      <th></th>\n",
       "      <th>fecha</th>\n",
       "      <th>tipo</th>\n",
       "      <th>precio_dolar_venta</th>\n",
       "    </tr>\n",
       "  </thead>\n",
       "  <tbody>\n",
       "    <tr>\n",
       "      <th>0</th>\n",
       "      <td>2011-01-03</td>\n",
       "      <td>blue</td>\n",
       "      <td>4.0</td>\n",
       "    </tr>\n",
       "    <tr>\n",
       "      <th>2</th>\n",
       "      <td>2011-01-03</td>\n",
       "      <td>oficial</td>\n",
       "      <td>4.0</td>\n",
       "    </tr>\n",
       "    <tr>\n",
       "      <th>3</th>\n",
       "      <td>2011-01-04</td>\n",
       "      <td>blue</td>\n",
       "      <td>4.0</td>\n",
       "    </tr>\n",
       "    <tr>\n",
       "      <th>5</th>\n",
       "      <td>2011-01-04</td>\n",
       "      <td>oficial</td>\n",
       "      <td>4.0</td>\n",
       "    </tr>\n",
       "    <tr>\n",
       "      <th>6</th>\n",
       "      <td>2011-01-05</td>\n",
       "      <td>blue</td>\n",
       "      <td>4.0</td>\n",
       "    </tr>\n",
       "  </tbody>\n",
       "</table>\n",
       "</div>"
      ],
      "text/plain": [
       "       fecha     tipo  precio_dolar_venta\n",
       "0 2011-01-03     blue                 4.0\n",
       "2 2011-01-03  oficial                 4.0\n",
       "3 2011-01-04     blue                 4.0\n",
       "5 2011-01-04  oficial                 4.0\n",
       "6 2011-01-05     blue                 4.0"
      ]
     },
     "execution_count": 95,
     "metadata": {},
     "output_type": "execute_result"
    }
   ],
   "source": [
    "cleaned_dolar_price_df.head()"
   ]
  },
  {
   "cell_type": "code",
   "execution_count": 96,
   "id": "fd2ada0d",
   "metadata": {},
   "outputs": [],
   "source": [
    "\n",
    "\n",
    "def clean_and_merge_fuel_prices(current_fuel_prices, hist_fuel_prices):\n",
    "# this function cleans and merges the CSV of historical and current fuel prices in Argentina.\n",
    "\n",
    "      #  cleaning current_fuel_prices df\n",
    "      current_fuel_prices['fecha_vigencia'] = pd.to_datetime(current_fuel_prices['fecha_vigencia'], errors='coerce')\n",
    "      \n",
    "      current_fuel_prices['provincia'].str.strip()\n",
    "      current_fuel_prices['producto'].str.strip()\n",
    "\n",
    "      current_fuel_prices = current_fuel_prices[['fecha_vigencia', 'provincia', 'idproducto', 'producto', 'precio']]\n",
    "\n",
    "      #  cleaning historical_fuel_prices df\n",
    "\n",
    "      hist_fuel_prices['fecha_vigencia'] = pd.to_datetime(hist_fuel_prices['fecha_vigencia'], errors='coerce')\n",
    "\n",
    "      hist_fuel_prices['provincia'].str.strip()\n",
    "      hist_fuel_prices['producto'].str.strip()\n",
    "\n",
    "      hist_fuel_prices = hist_fuel_prices[['fecha_vigencia', 'provincia', 'idproducto', 'producto', 'precio']]\n",
    "      \n",
    "      #  merge of clean df\n",
    "\n",
    "      hist_fuel_prices = hist_fuel_prices.copy()\n",
    "      current_fuel_prices = current_fuel_prices.copy()\n",
    "\n",
    "      merged_fuel_prices = pd.concat([hist_fuel_prices, current_fuel_prices], axis=0)\n",
    "      merged_fuel_prices.rename(columns={'fecha_vigencia':'fecha', 'precio':'precio_combustibles'}, inplace=True)\n",
    "      merged_fuel_prices['fecha'] = pd.to_datetime(merged_fuel_prices['fecha'], errors='coerce')\n",
    "\n",
    "      producto_mapping = {\n",
    "            \n",
    "            'GNC': 'Gas Natural',\n",
    "            'Gas Oil Grado 2': 'Gasoil Grado 2 (Común)',\n",
    "            'Gas Oil Grado 3': 'Gasoil Grado 3',  \n",
    "            'Nafta (premium) de más de 95 Ron': 'Nafta Grado 3 (Ultra)',\n",
    "            'Nafta (súper) entre 92 y 95 Ron': 'Nafta Grado 2 (Súper)',\n",
    "            \n",
    "            \n",
    "            'Nafta (premium) de mÃ¡s de 95 Ron': 'Nafta Grado 3 (Ultra)',\n",
    "            'Nafta (sÃºper) entre 92 y 95 Ron': 'Nafta Grado 2 (Súper)'\n",
    "        }\n",
    "\n",
    "      merged_fuel_prices['producto'] = merged_fuel_prices['producto'].replace(producto_mapping)\n",
    "\n",
    "      provincia_mapping = {\n",
    "            'BUENOS AIRES': 'Buenos Aires',\n",
    "            'CAPITAL FEDERAL': 'Capital Federal', \n",
    "            'CORDOBA': 'Córdoba',\n",
    "            'LA PAMPA': 'La Pampa',\n",
    "            'SANTA FE': 'Santa Fe',\n",
    "            'TUCUMAN': 'Tucuman',\n",
    "            'SALTA': 'Salta',\n",
    "            'MENDOZA': 'Mendoza',\n",
    "            'NEUQUEN': 'Neuquén',\n",
    "            'SAN JUAN': 'San Juan',\n",
    "            'ENTRE RIOS': 'Entre Rios',\n",
    "            'JUJUY': 'Jujuy',\n",
    "            'SANTIAGO DEL ESTERO': 'Santiago del Estero',\n",
    "            'SAN LUIS': 'San Luis',\n",
    "            'CATAMARCA': 'Catamarca',\n",
    "            'CHACO': 'Chaco',\n",
    "            'CHUBUT': 'Chubut',\n",
    "            'CORRIENTES': 'Corrientes',\n",
    "            'FORMOSA': 'Formosa',\n",
    "            'LA RIOJA': 'La Rioja',\n",
    "            'MISIONES': 'Misiones',\n",
    "            'RIO NEGRO': 'Rio Negro',\n",
    "            'SANTA CRUZ': 'Santa Cruz',\n",
    "            'TIERRA DEL FUEGO': 'Tierra del Fuego'\n",
    "        }\n",
    "\n",
    "      merged_fuel_prices['provincia'] = merged_fuel_prices['provincia'].replace(provincia_mapping)\n",
    "    \n",
    "      df_over_100 = merged_fuel_prices.fecha.dt.year.value_counts()\n",
    "      valid_years = df_over_100[df_over_100 > 100].index\n",
    "      cleaned_fuel_prices_df = merged_fuel_prices[merged_fuel_prices.fecha.dt.year.isin(valid_years)]\n",
    "\n",
    "      return cleaned_fuel_prices_df\n",
    "\n"
   ]
  },
  {
   "cell_type": "code",
   "execution_count": 97,
   "id": "351c41db",
   "metadata": {},
   "outputs": [],
   "source": [
    "fuel_prices_df = clean_and_merge_fuel_prices(current_fuel_prices_arg, hist_fuel_prices_arg)"
   ]
  },
  {
   "cell_type": "code",
   "execution_count": 98,
   "id": "7de018ad",
   "metadata": {},
   "outputs": [
    {
     "data": {
      "text/plain": [
       "array([2024, 2022, 2021, 2025, 2023, 2017, 2019, 2018, 2020, 2016])"
      ]
     },
     "execution_count": 98,
     "metadata": {},
     "output_type": "execute_result"
    }
   ],
   "source": [
    "#  checking values and outliers\n",
    "fuel_prices_df.fecha.dt.year.unique()"
   ]
  },
  {
   "cell_type": "code",
   "execution_count": 99,
   "id": "8aef069f",
   "metadata": {},
   "outputs": [
    {
     "data": {
      "text/plain": [
       "fecha\n",
       "2024    415735\n",
       "2018    330075\n",
       "2019    239634\n",
       "2025    239371\n",
       "2022    221632\n",
       "2023    167579\n",
       "2017    123064\n",
       "2021    117170\n",
       "2020     28919\n",
       "2016       174\n",
       "Name: count, dtype: int64"
      ]
     },
     "execution_count": 99,
     "metadata": {},
     "output_type": "execute_result"
    }
   ],
   "source": [
    "fuel_prices_df.fecha.dt.year.value_counts()"
   ]
  },
  {
   "cell_type": "code",
   "execution_count": 100,
   "id": "7eb91bcf",
   "metadata": {},
   "outputs": [
    {
     "data": {
      "text/html": [
       "<div>\n",
       "<style scoped>\n",
       "    .dataframe tbody tr th:only-of-type {\n",
       "        vertical-align: middle;\n",
       "    }\n",
       "\n",
       "    .dataframe tbody tr th {\n",
       "        vertical-align: top;\n",
       "    }\n",
       "\n",
       "    .dataframe thead th {\n",
       "        text-align: right;\n",
       "    }\n",
       "</style>\n",
       "<table border=\"1\" class=\"dataframe\">\n",
       "  <thead>\n",
       "    <tr style=\"text-align: right;\">\n",
       "      <th></th>\n",
       "      <th>fecha</th>\n",
       "      <th>provincia</th>\n",
       "      <th>idproducto</th>\n",
       "      <th>producto</th>\n",
       "      <th>precio_combustibles</th>\n",
       "    </tr>\n",
       "  </thead>\n",
       "  <tbody>\n",
       "  </tbody>\n",
       "</table>\n",
       "</div>"
      ],
      "text/plain": [
       "Empty DataFrame\n",
       "Columns: [fecha, provincia, idproducto, producto, precio_combustibles]\n",
       "Index: []"
      ]
     },
     "execution_count": 100,
     "metadata": {},
     "output_type": "execute_result"
    }
   ],
   "source": [
    "fuel_prices_df.loc[fuel_prices_df['fecha'].dt.year == 2044, :]"
   ]
  },
  {
   "cell_type": "code",
   "execution_count": 101,
   "id": "09d6b8e6",
   "metadata": {},
   "outputs": [
    {
     "data": {
      "text/html": [
       "<div>\n",
       "<style scoped>\n",
       "    .dataframe tbody tr th:only-of-type {\n",
       "        vertical-align: middle;\n",
       "    }\n",
       "\n",
       "    .dataframe tbody tr th {\n",
       "        vertical-align: top;\n",
       "    }\n",
       "\n",
       "    .dataframe thead th {\n",
       "        text-align: right;\n",
       "    }\n",
       "</style>\n",
       "<table border=\"1\" class=\"dataframe\">\n",
       "  <thead>\n",
       "    <tr style=\"text-align: right;\">\n",
       "      <th></th>\n",
       "      <th>fecha</th>\n",
       "      <th>provincia</th>\n",
       "      <th>idproducto</th>\n",
       "      <th>producto</th>\n",
       "      <th>precio_combustibles</th>\n",
       "    </tr>\n",
       "  </thead>\n",
       "  <tbody>\n",
       "  </tbody>\n",
       "</table>\n",
       "</div>"
      ],
      "text/plain": [
       "Empty DataFrame\n",
       "Columns: [fecha, provincia, idproducto, producto, precio_combustibles]\n",
       "Index: []"
      ]
     },
     "execution_count": 101,
     "metadata": {},
     "output_type": "execute_result"
    }
   ],
   "source": [
    "fuel_prices_df.loc[fuel_prices_df['fecha'].dt.year == 2012, :]"
   ]
  },
  {
   "cell_type": "code",
   "execution_count": 102,
   "id": "a216de0f",
   "metadata": {},
   "outputs": [
    {
     "data": {
      "text/plain": [
       "fecha\n",
       "2024    415735\n",
       "2018    330075\n",
       "2019    239634\n",
       "2025    239371\n",
       "2022    221632\n",
       "2023    167579\n",
       "2017    123064\n",
       "2021    117170\n",
       "2020     28919\n",
       "2016       174\n",
       "Name: count, dtype: int64"
      ]
     },
     "execution_count": 102,
     "metadata": {},
     "output_type": "execute_result"
    }
   ],
   "source": [
    "fuel_prices_df.fecha.dt.year.value_counts()"
   ]
  },
  {
   "cell_type": "code",
   "execution_count": 103,
   "id": "67154eb9",
   "metadata": {},
   "outputs": [
    {
     "data": {
      "text/plain": [
       "array(['Gasoil Grado 2 (Común)', 'Gasoil Grado 3', 'Gas Natural',\n",
       "       'Nafta Grado 3 (Ultra)', 'Nafta Grado 2 (Súper)'], dtype=object)"
      ]
     },
     "execution_count": 103,
     "metadata": {},
     "output_type": "execute_result"
    }
   ],
   "source": [
    "fuel_prices_df.producto.unique()"
   ]
  },
  {
   "cell_type": "code",
   "execution_count": null,
   "id": "8fdd6d79",
   "metadata": {},
   "outputs": [],
   "source": [
    "def clean_fuel_sales(fuel_sales):\n",
    "#  this function cleans date and object types, and set the categories for the fuel sales\n",
    "\n",
    "    fuel_sales['indice_tiempo'] = pd.to_datetime(fuel_sales['indice_tiempo'], errors='coerce') \n",
    "    fuel_sales.rename(columns={'indice_tiempo': 'fecha'}, inplace=True)\n",
    "\n",
    "    fuel_sales['provincia'].str.strip()\n",
    "    fuel_sales['producto'].str.strip()\n",
    "    fuel_sales['sector'].str.strip()\n",
    "\n",
    "    fuel_sales = fuel_sales[['fecha', 'provincia', 'sector', 'producto', 'total', 'unidad']]\n",
    "\n",
    "    categories = ['Gas Natural', 'Gasoil Grado 2 (Común)', 'Gasoil Grado 3 (Ultra)', 'Nafta Grado 2 (Súper)', 'Nafta Grado 3 (Ultra)']\n",
    "\n",
    "    #setting categories\n",
    "    fuel_sales = fuel_sales.loc[fuel_sales['producto'].isin(categories), :]\n",
    "\n",
    "    condition = (fuel_sales['fecha'].dt.year == 2016) & (fuel_sales['fecha'].dt.month == 1) \n",
    "\n",
    "    fuel_sales = fuel_sales.loc[~condition, :] \n",
    "\n",
    "    return fuel_sales\n",
    "    \n"
   ]
  },
  {
   "cell_type": "code",
   "execution_count": 105,
   "id": "63849659",
   "metadata": {},
   "outputs": [],
   "source": [
    "cleaned_fuel_sales_df = clean_fuel_sales(fuel_sales)"
   ]
  },
  {
   "cell_type": "code",
   "execution_count": 106,
   "id": "320dd87b",
   "metadata": {},
   "outputs": [
    {
     "data": {
      "text/html": [
       "<div>\n",
       "<style scoped>\n",
       "    .dataframe tbody tr th:only-of-type {\n",
       "        vertical-align: middle;\n",
       "    }\n",
       "\n",
       "    .dataframe tbody tr th {\n",
       "        vertical-align: top;\n",
       "    }\n",
       "\n",
       "    .dataframe thead th {\n",
       "        text-align: right;\n",
       "    }\n",
       "</style>\n",
       "<table border=\"1\" class=\"dataframe\">\n",
       "  <thead>\n",
       "    <tr style=\"text-align: right;\">\n",
       "      <th></th>\n",
       "      <th>fecha</th>\n",
       "      <th>provincia</th>\n",
       "      <th>sector</th>\n",
       "      <th>producto</th>\n",
       "      <th>total</th>\n",
       "      <th>unidad</th>\n",
       "    </tr>\n",
       "  </thead>\n",
       "  <tbody>\n",
       "    <tr>\n",
       "      <th>1683</th>\n",
       "      <td>2010-01-01</td>\n",
       "      <td>Buenos Aires</td>\n",
       "      <td>Agro</td>\n",
       "      <td>Gas Natural</td>\n",
       "      <td>0.0</td>\n",
       "      <td>(miles/m3)</td>\n",
       "    </tr>\n",
       "    <tr>\n",
       "      <th>1684</th>\n",
       "      <td>2010-01-01</td>\n",
       "      <td>Buenos Aires</td>\n",
       "      <td>Al Público</td>\n",
       "      <td>Gas Natural</td>\n",
       "      <td>0.0</td>\n",
       "      <td>(miles/m3)</td>\n",
       "    </tr>\n",
       "    <tr>\n",
       "      <th>1685</th>\n",
       "      <td>2010-01-01</td>\n",
       "      <td>Buenos Aires</td>\n",
       "      <td>Estado</td>\n",
       "      <td>Gas Natural</td>\n",
       "      <td>0.0</td>\n",
       "      <td>(miles/m3)</td>\n",
       "    </tr>\n",
       "    <tr>\n",
       "      <th>1686</th>\n",
       "      <td>2010-01-01</td>\n",
       "      <td>Buenos Aires</td>\n",
       "      <td>Industrias Petroquímicas</td>\n",
       "      <td>Gas Natural</td>\n",
       "      <td>0.0</td>\n",
       "      <td>(miles/m3)</td>\n",
       "    </tr>\n",
       "    <tr>\n",
       "      <th>1687</th>\n",
       "      <td>2010-01-01</td>\n",
       "      <td>Buenos Aires</td>\n",
       "      <td>Otras Empresas</td>\n",
       "      <td>Gas Natural</td>\n",
       "      <td>0.0</td>\n",
       "      <td>(miles/m3)</td>\n",
       "    </tr>\n",
       "  </tbody>\n",
       "</table>\n",
       "</div>"
      ],
      "text/plain": [
       "          fecha     provincia                    sector     producto  total  \\\n",
       "1683 2010-01-01  Buenos Aires                      Agro  Gas Natural    0.0   \n",
       "1684 2010-01-01  Buenos Aires                Al Público  Gas Natural    0.0   \n",
       "1685 2010-01-01  Buenos Aires                    Estado  Gas Natural    0.0   \n",
       "1686 2010-01-01  Buenos Aires  Industrias Petroquímicas  Gas Natural    0.0   \n",
       "1687 2010-01-01  Buenos Aires            Otras Empresas  Gas Natural    0.0   \n",
       "\n",
       "          unidad  \n",
       "1683  (miles/m3)  \n",
       "1684  (miles/m3)  \n",
       "1685  (miles/m3)  \n",
       "1686  (miles/m3)  \n",
       "1687  (miles/m3)  "
      ]
     },
     "execution_count": 106,
     "metadata": {},
     "output_type": "execute_result"
    }
   ],
   "source": [
    "cleaned_fuel_sales_df.head()"
   ]
  },
  {
   "cell_type": "code",
   "execution_count": 107,
   "id": "abc99ee0",
   "metadata": {},
   "outputs": [
    {
     "data": {
      "text/html": [
       "<div>\n",
       "<style scoped>\n",
       "    .dataframe tbody tr th:only-of-type {\n",
       "        vertical-align: middle;\n",
       "    }\n",
       "\n",
       "    .dataframe tbody tr th {\n",
       "        vertical-align: top;\n",
       "    }\n",
       "\n",
       "    .dataframe thead th {\n",
       "        text-align: right;\n",
       "    }\n",
       "</style>\n",
       "<table border=\"1\" class=\"dataframe\">\n",
       "  <thead>\n",
       "    <tr style=\"text-align: right;\">\n",
       "      <th></th>\n",
       "      <th>fecha</th>\n",
       "      <th>provincia</th>\n",
       "      <th>sector</th>\n",
       "      <th>producto</th>\n",
       "      <th>total</th>\n",
       "      <th>unidad</th>\n",
       "    </tr>\n",
       "  </thead>\n",
       "  <tbody>\n",
       "    <tr>\n",
       "      <th>569007</th>\n",
       "      <td>2016-02-01</td>\n",
       "      <td>Buenos Aires</td>\n",
       "      <td>Agro</td>\n",
       "      <td>Gas Natural</td>\n",
       "      <td>0.000</td>\n",
       "      <td>(miles/m3)</td>\n",
       "    </tr>\n",
       "    <tr>\n",
       "      <th>569008</th>\n",
       "      <td>2016-02-01</td>\n",
       "      <td>Buenos Aires</td>\n",
       "      <td>Al Público</td>\n",
       "      <td>Gas Natural</td>\n",
       "      <td>0.000</td>\n",
       "      <td>(miles/m3)</td>\n",
       "    </tr>\n",
       "    <tr>\n",
       "      <th>569009</th>\n",
       "      <td>2016-02-01</td>\n",
       "      <td>Buenos Aires</td>\n",
       "      <td>Estado</td>\n",
       "      <td>Gas Natural</td>\n",
       "      <td>0.000</td>\n",
       "      <td>(miles/m3)</td>\n",
       "    </tr>\n",
       "    <tr>\n",
       "      <th>569010</th>\n",
       "      <td>2016-02-01</td>\n",
       "      <td>Buenos Aires</td>\n",
       "      <td>Industrias Petroquímicas</td>\n",
       "      <td>Gas Natural</td>\n",
       "      <td>0.000</td>\n",
       "      <td>(miles/m3)</td>\n",
       "    </tr>\n",
       "    <tr>\n",
       "      <th>569011</th>\n",
       "      <td>2016-02-01</td>\n",
       "      <td>Buenos Aires</td>\n",
       "      <td>Otras Empresas</td>\n",
       "      <td>Gas Natural</td>\n",
       "      <td>0.000</td>\n",
       "      <td>(miles/m3)</td>\n",
       "    </tr>\n",
       "    <tr>\n",
       "      <th>...</th>\n",
       "      <td>...</td>\n",
       "      <td>...</td>\n",
       "      <td>...</td>\n",
       "      <td>...</td>\n",
       "      <td>...</td>\n",
       "      <td>...</td>\n",
       "    </tr>\n",
       "    <tr>\n",
       "      <th>653544</th>\n",
       "      <td>2016-12-01</td>\n",
       "      <td>Tucuman</td>\n",
       "      <td>Otras Empresas</td>\n",
       "      <td>Nafta Grado 3 (Ultra)</td>\n",
       "      <td>11.885</td>\n",
       "      <td>(m3)</td>\n",
       "    </tr>\n",
       "    <tr>\n",
       "      <th>653545</th>\n",
       "      <td>2016-12-01</td>\n",
       "      <td>Tucuman</td>\n",
       "      <td>Transporte de Carga</td>\n",
       "      <td>Nafta Grado 3 (Ultra)</td>\n",
       "      <td>6.000</td>\n",
       "      <td>(m3)</td>\n",
       "    </tr>\n",
       "    <tr>\n",
       "      <th>653546</th>\n",
       "      <td>2016-12-01</td>\n",
       "      <td>Tucuman</td>\n",
       "      <td>Transporte Ferroviario</td>\n",
       "      <td>Nafta Grado 3 (Ultra)</td>\n",
       "      <td>0.000</td>\n",
       "      <td>(m3)</td>\n",
       "    </tr>\n",
       "    <tr>\n",
       "      <th>653547</th>\n",
       "      <td>2016-12-01</td>\n",
       "      <td>Tucuman</td>\n",
       "      <td>transporte Público de Pasajeros</td>\n",
       "      <td>Nafta Grado 3 (Ultra)</td>\n",
       "      <td>0.000</td>\n",
       "      <td>(m3)</td>\n",
       "    </tr>\n",
       "    <tr>\n",
       "      <th>653548</th>\n",
       "      <td>2016-12-01</td>\n",
       "      <td>Tucuman</td>\n",
       "      <td>Usinas Eléctricas</td>\n",
       "      <td>Nafta Grado 3 (Ultra)</td>\n",
       "      <td>0.000</td>\n",
       "      <td>(m3)</td>\n",
       "    </tr>\n",
       "  </tbody>\n",
       "</table>\n",
       "<p>9991 rows × 6 columns</p>\n",
       "</div>"
      ],
      "text/plain": [
       "            fecha     provincia                           sector  \\\n",
       "569007 2016-02-01  Buenos Aires                             Agro   \n",
       "569008 2016-02-01  Buenos Aires                       Al Público   \n",
       "569009 2016-02-01  Buenos Aires                           Estado   \n",
       "569010 2016-02-01  Buenos Aires         Industrias Petroquímicas   \n",
       "569011 2016-02-01  Buenos Aires                   Otras Empresas   \n",
       "...           ...           ...                              ...   \n",
       "653544 2016-12-01       Tucuman                   Otras Empresas   \n",
       "653545 2016-12-01       Tucuman              Transporte de Carga   \n",
       "653546 2016-12-01       Tucuman           Transporte Ferroviario   \n",
       "653547 2016-12-01       Tucuman  transporte Público de Pasajeros   \n",
       "653548 2016-12-01       Tucuman                Usinas Eléctricas   \n",
       "\n",
       "                     producto   total      unidad  \n",
       "569007            Gas Natural   0.000  (miles/m3)  \n",
       "569008            Gas Natural   0.000  (miles/m3)  \n",
       "569009            Gas Natural   0.000  (miles/m3)  \n",
       "569010            Gas Natural   0.000  (miles/m3)  \n",
       "569011            Gas Natural   0.000  (miles/m3)  \n",
       "...                       ...     ...         ...  \n",
       "653544  Nafta Grado 3 (Ultra)  11.885        (m3)  \n",
       "653545  Nafta Grado 3 (Ultra)   6.000        (m3)  \n",
       "653546  Nafta Grado 3 (Ultra)   0.000        (m3)  \n",
       "653547  Nafta Grado 3 (Ultra)   0.000        (m3)  \n",
       "653548  Nafta Grado 3 (Ultra)   0.000        (m3)  \n",
       "\n",
       "[9991 rows x 6 columns]"
      ]
     },
     "execution_count": 107,
     "metadata": {},
     "output_type": "execute_result"
    }
   ],
   "source": [
    "cleaned_fuel_sales_df.loc[cleaned_fuel_sales_df['fecha'].dt.year == 2016 , :]"
   ]
  },
  {
   "cell_type": "code",
   "execution_count": 108,
   "id": "b637485f",
   "metadata": {},
   "outputs": [
    {
     "data": {
      "text/html": [
       "<div>\n",
       "<style scoped>\n",
       "    .dataframe tbody tr th:only-of-type {\n",
       "        vertical-align: middle;\n",
       "    }\n",
       "\n",
       "    .dataframe tbody tr th {\n",
       "        vertical-align: top;\n",
       "    }\n",
       "\n",
       "    .dataframe thead th {\n",
       "        text-align: right;\n",
       "    }\n",
       "</style>\n",
       "<table border=\"1\" class=\"dataframe\">\n",
       "  <thead>\n",
       "    <tr style=\"text-align: right;\">\n",
       "      <th></th>\n",
       "      <th>fecha</th>\n",
       "      <th>precio_crudo</th>\n",
       "    </tr>\n",
       "  </thead>\n",
       "  <tbody>\n",
       "    <tr>\n",
       "      <th>120</th>\n",
       "      <td>1990-01-01</td>\n",
       "      <td>20.989130</td>\n",
       "    </tr>\n",
       "    <tr>\n",
       "      <th>121</th>\n",
       "      <td>1990-02-01</td>\n",
       "      <td>19.702500</td>\n",
       "    </tr>\n",
       "    <tr>\n",
       "      <th>122</th>\n",
       "      <td>1990-03-01</td>\n",
       "      <td>18.465909</td>\n",
       "    </tr>\n",
       "    <tr>\n",
       "      <th>123</th>\n",
       "      <td>1990-04-01</td>\n",
       "      <td>16.926190</td>\n",
       "    </tr>\n",
       "    <tr>\n",
       "      <th>124</th>\n",
       "      <td>1990-05-01</td>\n",
       "      <td>16.671739</td>\n",
       "    </tr>\n",
       "  </tbody>\n",
       "</table>\n",
       "</div>"
      ],
      "text/plain": [
       "         fecha  precio_crudo\n",
       "120 1990-01-01     20.989130\n",
       "121 1990-02-01     19.702500\n",
       "122 1990-03-01     18.465909\n",
       "123 1990-04-01     16.926190\n",
       "124 1990-05-01     16.671739"
      ]
     },
     "execution_count": 108,
     "metadata": {},
     "output_type": "execute_result"
    }
   ],
   "source": [
    "cleaned_crude_oil_df.head()"
   ]
  },
  {
   "cell_type": "code",
   "execution_count": 109,
   "id": "c5ced39b",
   "metadata": {},
   "outputs": [
    {
     "data": {
      "text/html": [
       "<div>\n",
       "<style scoped>\n",
       "    .dataframe tbody tr th:only-of-type {\n",
       "        vertical-align: middle;\n",
       "    }\n",
       "\n",
       "    .dataframe tbody tr th {\n",
       "        vertical-align: top;\n",
       "    }\n",
       "\n",
       "    .dataframe thead th {\n",
       "        text-align: right;\n",
       "    }\n",
       "</style>\n",
       "<table border=\"1\" class=\"dataframe\">\n",
       "  <thead>\n",
       "    <tr style=\"text-align: right;\">\n",
       "      <th></th>\n",
       "      <th>fecha</th>\n",
       "      <th>tipo</th>\n",
       "      <th>precio_dolar_venta</th>\n",
       "    </tr>\n",
       "  </thead>\n",
       "  <tbody>\n",
       "    <tr>\n",
       "      <th>0</th>\n",
       "      <td>2011-01-03</td>\n",
       "      <td>blue</td>\n",
       "      <td>4.0</td>\n",
       "    </tr>\n",
       "    <tr>\n",
       "      <th>2</th>\n",
       "      <td>2011-01-03</td>\n",
       "      <td>oficial</td>\n",
       "      <td>4.0</td>\n",
       "    </tr>\n",
       "    <tr>\n",
       "      <th>3</th>\n",
       "      <td>2011-01-04</td>\n",
       "      <td>blue</td>\n",
       "      <td>4.0</td>\n",
       "    </tr>\n",
       "    <tr>\n",
       "      <th>5</th>\n",
       "      <td>2011-01-04</td>\n",
       "      <td>oficial</td>\n",
       "      <td>4.0</td>\n",
       "    </tr>\n",
       "    <tr>\n",
       "      <th>6</th>\n",
       "      <td>2011-01-05</td>\n",
       "      <td>blue</td>\n",
       "      <td>4.0</td>\n",
       "    </tr>\n",
       "  </tbody>\n",
       "</table>\n",
       "</div>"
      ],
      "text/plain": [
       "       fecha     tipo  precio_dolar_venta\n",
       "0 2011-01-03     blue                 4.0\n",
       "2 2011-01-03  oficial                 4.0\n",
       "3 2011-01-04     blue                 4.0\n",
       "5 2011-01-04  oficial                 4.0\n",
       "6 2011-01-05     blue                 4.0"
      ]
     },
     "execution_count": 109,
     "metadata": {},
     "output_type": "execute_result"
    }
   ],
   "source": [
    "cleaned_dolar_price_df.head()"
   ]
  },
  {
   "cell_type": "code",
   "execution_count": 110,
   "id": "2c53a5a1",
   "metadata": {},
   "outputs": [
    {
     "data": {
      "text/html": [
       "<div>\n",
       "<style scoped>\n",
       "    .dataframe tbody tr th:only-of-type {\n",
       "        vertical-align: middle;\n",
       "    }\n",
       "\n",
       "    .dataframe tbody tr th {\n",
       "        vertical-align: top;\n",
       "    }\n",
       "\n",
       "    .dataframe thead th {\n",
       "        text-align: right;\n",
       "    }\n",
       "</style>\n",
       "<table border=\"1\" class=\"dataframe\">\n",
       "  <thead>\n",
       "    <tr style=\"text-align: right;\">\n",
       "      <th></th>\n",
       "      <th>fecha</th>\n",
       "      <th>provincia</th>\n",
       "      <th>idproducto</th>\n",
       "      <th>producto</th>\n",
       "      <th>precio_combustibles</th>\n",
       "    </tr>\n",
       "  </thead>\n",
       "  <tbody>\n",
       "    <tr>\n",
       "      <th>0</th>\n",
       "      <td>2024-01-04 10:11:00</td>\n",
       "      <td>Buenos Aires</td>\n",
       "      <td>19</td>\n",
       "      <td>Gasoil Grado 2 (Común)</td>\n",
       "      <td>985.0</td>\n",
       "    </tr>\n",
       "    <tr>\n",
       "      <th>1</th>\n",
       "      <td>2024-01-04 10:11:00</td>\n",
       "      <td>Buenos Aires</td>\n",
       "      <td>19</td>\n",
       "      <td>Gasoil Grado 2 (Común)</td>\n",
       "      <td>985.0</td>\n",
       "    </tr>\n",
       "    <tr>\n",
       "      <th>2</th>\n",
       "      <td>2024-01-07 09:43:00</td>\n",
       "      <td>Buenos Aires</td>\n",
       "      <td>19</td>\n",
       "      <td>Gasoil Grado 2 (Común)</td>\n",
       "      <td>1080.0</td>\n",
       "    </tr>\n",
       "    <tr>\n",
       "      <th>3</th>\n",
       "      <td>2024-01-07 09:43:00</td>\n",
       "      <td>Buenos Aires</td>\n",
       "      <td>19</td>\n",
       "      <td>Gasoil Grado 2 (Común)</td>\n",
       "      <td>1080.0</td>\n",
       "    </tr>\n",
       "    <tr>\n",
       "      <th>4</th>\n",
       "      <td>2024-01-08 13:40:00</td>\n",
       "      <td>Buenos Aires</td>\n",
       "      <td>19</td>\n",
       "      <td>Gasoil Grado 2 (Común)</td>\n",
       "      <td>1108.0</td>\n",
       "    </tr>\n",
       "  </tbody>\n",
       "</table>\n",
       "</div>"
      ],
      "text/plain": [
       "                fecha     provincia  idproducto                producto  \\\n",
       "0 2024-01-04 10:11:00  Buenos Aires          19  Gasoil Grado 2 (Común)   \n",
       "1 2024-01-04 10:11:00  Buenos Aires          19  Gasoil Grado 2 (Común)   \n",
       "2 2024-01-07 09:43:00  Buenos Aires          19  Gasoil Grado 2 (Común)   \n",
       "3 2024-01-07 09:43:00  Buenos Aires          19  Gasoil Grado 2 (Común)   \n",
       "4 2024-01-08 13:40:00  Buenos Aires          19  Gasoil Grado 2 (Común)   \n",
       "\n",
       "   precio_combustibles  \n",
       "0                985.0  \n",
       "1                985.0  \n",
       "2               1080.0  \n",
       "3               1080.0  \n",
       "4               1108.0  "
      ]
     },
     "execution_count": 110,
     "metadata": {},
     "output_type": "execute_result"
    }
   ],
   "source": [
    "fuel_prices_df.head()"
   ]
  },
  {
   "cell_type": "code",
   "execution_count": 111,
   "id": "49ed4cfa",
   "metadata": {},
   "outputs": [
    {
     "name": "stdout",
     "output_type": "stream",
     "text": [
      "['Gasoil Grado 2 (Común)' 'Gasoil Grado 3' 'Gas Natural'\n",
      " 'Nafta Grado 3 (Ultra)' 'Nafta Grado 2 (Súper)']\n",
      "['Gas Natural' 'Gasoil Grado 2 (Común)' 'Nafta Grado 2 (Súper)'\n",
      " 'Nafta Grado 3 (Ultra)']\n"
     ]
    }
   ],
   "source": [
    "print(fuel_prices_df.producto.unique() )\n",
    "print(cleaned_fuel_sales_df.producto.unique())"
   ]
  },
  {
   "cell_type": "code",
   "execution_count": 112,
   "id": "ef75bab7",
   "metadata": {},
   "outputs": [],
   "source": [
    "def aggregate_monthly(df, date_column, value_columns, aggregate_column=None, aggregate_column_2 = None, aggregate_colum_3 = None):\n",
    "#  average monthly aggregate for each dataframe\n",
    "\n",
    "    df['year_month'] = df[date_column].dt.to_period('M') #  this line of code set the column's date period to monthly\n",
    "\n",
    "    group_columns = ['year_month']\n",
    "\n",
    "    #  this if block adds grouping columns if necessary\n",
    "    if aggregate_column is not None: \n",
    "        group_columns.append(aggregate_column)\n",
    "\n",
    "    if aggregate_column_2 is not None:\n",
    "        group_columns.append(aggregate_column_2)    \n",
    "    \n",
    "    if aggregate_colum_3 is not None:\n",
    "        group_columns.append(aggregate_colum_3)\n",
    "    \n",
    "    monthly_data = df.groupby(group_columns)[value_columns].mean().reset_index()\n",
    "    monthly_data['fecha'] = monthly_data['year_month'].dt.start_time.dt.date\n",
    "    monthly_data = monthly_data.drop('year_month', axis=1)\n",
    "    monthly_data['fecha'] = pd.to_datetime(monthly_data['fecha'], errors='coerce')\n",
    "    \n",
    "    return monthly_data"
   ]
  },
  {
   "cell_type": "code",
   "execution_count": 113,
   "id": "d5e31b14",
   "metadata": {},
   "outputs": [],
   "source": [
    "cleaned_dolar_price_monthly = aggregate_monthly(cleaned_dolar_price_df,'fecha','precio_dolar_venta', 'tipo')"
   ]
  },
  {
   "cell_type": "code",
   "execution_count": 114,
   "id": "2597cc9d",
   "metadata": {},
   "outputs": [
    {
     "data": {
      "text/html": [
       "<div>\n",
       "<style scoped>\n",
       "    .dataframe tbody tr th:only-of-type {\n",
       "        vertical-align: middle;\n",
       "    }\n",
       "\n",
       "    .dataframe tbody tr th {\n",
       "        vertical-align: top;\n",
       "    }\n",
       "\n",
       "    .dataframe thead th {\n",
       "        text-align: right;\n",
       "    }\n",
       "</style>\n",
       "<table border=\"1\" class=\"dataframe\">\n",
       "  <thead>\n",
       "    <tr style=\"text-align: right;\">\n",
       "      <th></th>\n",
       "      <th>tipo</th>\n",
       "      <th>precio_dolar_venta</th>\n",
       "      <th>fecha</th>\n",
       "    </tr>\n",
       "  </thead>\n",
       "  <tbody>\n",
       "    <tr>\n",
       "      <th>0</th>\n",
       "      <td>blue</td>\n",
       "      <td>4.0</td>\n",
       "      <td>2011-01-01</td>\n",
       "    </tr>\n",
       "    <tr>\n",
       "      <th>1</th>\n",
       "      <td>oficial</td>\n",
       "      <td>4.0</td>\n",
       "      <td>2011-01-01</td>\n",
       "    </tr>\n",
       "    <tr>\n",
       "      <th>2</th>\n",
       "      <td>blue</td>\n",
       "      <td>4.0</td>\n",
       "      <td>2011-02-01</td>\n",
       "    </tr>\n",
       "    <tr>\n",
       "      <th>3</th>\n",
       "      <td>oficial</td>\n",
       "      <td>4.0</td>\n",
       "      <td>2011-02-01</td>\n",
       "    </tr>\n",
       "    <tr>\n",
       "      <th>4</th>\n",
       "      <td>blue</td>\n",
       "      <td>4.0</td>\n",
       "      <td>2011-03-01</td>\n",
       "    </tr>\n",
       "  </tbody>\n",
       "</table>\n",
       "</div>"
      ],
      "text/plain": [
       "      tipo  precio_dolar_venta      fecha\n",
       "0     blue                 4.0 2011-01-01\n",
       "1  oficial                 4.0 2011-01-01\n",
       "2     blue                 4.0 2011-02-01\n",
       "3  oficial                 4.0 2011-02-01\n",
       "4     blue                 4.0 2011-03-01"
      ]
     },
     "execution_count": 114,
     "metadata": {},
     "output_type": "execute_result"
    }
   ],
   "source": [
    "cleaned_dolar_price_monthly.head()"
   ]
  },
  {
   "cell_type": "code",
   "execution_count": 115,
   "id": "5e28332a",
   "metadata": {},
   "outputs": [],
   "source": [
    "cleaned_fuel_prices_monthly = aggregate_monthly(fuel_prices_df, 'fecha', 'precio_combustibles', 'producto', 'provincia')"
   ]
  },
  {
   "cell_type": "code",
   "execution_count": 116,
   "id": "531ad9d9",
   "metadata": {},
   "outputs": [
    {
     "data": {
      "text/html": [
       "<div>\n",
       "<style scoped>\n",
       "    .dataframe tbody tr th:only-of-type {\n",
       "        vertical-align: middle;\n",
       "    }\n",
       "\n",
       "    .dataframe tbody tr th {\n",
       "        vertical-align: top;\n",
       "    }\n",
       "\n",
       "    .dataframe thead th {\n",
       "        text-align: right;\n",
       "    }\n",
       "</style>\n",
       "<table border=\"1\" class=\"dataframe\">\n",
       "  <thead>\n",
       "    <tr style=\"text-align: right;\">\n",
       "      <th></th>\n",
       "      <th>producto</th>\n",
       "      <th>provincia</th>\n",
       "      <th>precio_combustibles</th>\n",
       "      <th>fecha</th>\n",
       "    </tr>\n",
       "  </thead>\n",
       "  <tbody>\n",
       "    <tr>\n",
       "      <th>0</th>\n",
       "      <td>Gas Natural</td>\n",
       "      <td>Buenos Aires</td>\n",
       "      <td>10.884846</td>\n",
       "      <td>2016-01-01</td>\n",
       "    </tr>\n",
       "    <tr>\n",
       "      <th>1</th>\n",
       "      <td>Gas Natural</td>\n",
       "      <td>Capital Federal</td>\n",
       "      <td>8.482667</td>\n",
       "      <td>2016-01-01</td>\n",
       "    </tr>\n",
       "    <tr>\n",
       "      <th>2</th>\n",
       "      <td>Gas Natural</td>\n",
       "      <td>Córdoba</td>\n",
       "      <td>10.270000</td>\n",
       "      <td>2016-01-01</td>\n",
       "    </tr>\n",
       "    <tr>\n",
       "      <th>3</th>\n",
       "      <td>Gas Natural</td>\n",
       "      <td>La Pampa</td>\n",
       "      <td>10.990000</td>\n",
       "      <td>2016-01-01</td>\n",
       "    </tr>\n",
       "    <tr>\n",
       "      <th>4</th>\n",
       "      <td>Gas Natural</td>\n",
       "      <td>Santa Fe</td>\n",
       "      <td>10.480000</td>\n",
       "      <td>2016-01-01</td>\n",
       "    </tr>\n",
       "  </tbody>\n",
       "</table>\n",
       "</div>"
      ],
      "text/plain": [
       "      producto        provincia  precio_combustibles      fecha\n",
       "0  Gas Natural     Buenos Aires            10.884846 2016-01-01\n",
       "1  Gas Natural  Capital Federal             8.482667 2016-01-01\n",
       "2  Gas Natural          Córdoba            10.270000 2016-01-01\n",
       "3  Gas Natural         La Pampa            10.990000 2016-01-01\n",
       "4  Gas Natural         Santa Fe            10.480000 2016-01-01"
      ]
     },
     "execution_count": 116,
     "metadata": {},
     "output_type": "execute_result"
    }
   ],
   "source": [
    "cleaned_fuel_prices_monthly.head()"
   ]
  },
  {
   "cell_type": "code",
   "execution_count": 117,
   "id": "442082b6",
   "metadata": {},
   "outputs": [],
   "source": [
    "cleaned_fuel_sales_monthly = aggregate_monthly(cleaned_fuel_sales_df, 'fecha', 'total', 'sector', 'producto', 'provincia')"
   ]
  },
  {
   "cell_type": "code",
   "execution_count": 118,
   "id": "3415f046",
   "metadata": {},
   "outputs": [
    {
     "data": {
      "text/html": [
       "<div>\n",
       "<style scoped>\n",
       "    .dataframe tbody tr th:only-of-type {\n",
       "        vertical-align: middle;\n",
       "    }\n",
       "\n",
       "    .dataframe tbody tr th {\n",
       "        vertical-align: top;\n",
       "    }\n",
       "\n",
       "    .dataframe thead th {\n",
       "        text-align: right;\n",
       "    }\n",
       "</style>\n",
       "<table border=\"1\" class=\"dataframe\">\n",
       "  <thead>\n",
       "    <tr style=\"text-align: right;\">\n",
       "      <th></th>\n",
       "      <th>sector</th>\n",
       "      <th>producto</th>\n",
       "      <th>provincia</th>\n",
       "      <th>total</th>\n",
       "      <th>fecha</th>\n",
       "    </tr>\n",
       "  </thead>\n",
       "  <tbody>\n",
       "    <tr>\n",
       "      <th>0</th>\n",
       "      <td>Agro</td>\n",
       "      <td>Gas Natural</td>\n",
       "      <td>Buenos Aires</td>\n",
       "      <td>0.0</td>\n",
       "      <td>2010-01-01</td>\n",
       "    </tr>\n",
       "    <tr>\n",
       "      <th>1</th>\n",
       "      <td>Agro</td>\n",
       "      <td>Gas Natural</td>\n",
       "      <td>Capital Federal</td>\n",
       "      <td>0.0</td>\n",
       "      <td>2010-01-01</td>\n",
       "    </tr>\n",
       "    <tr>\n",
       "      <th>2</th>\n",
       "      <td>Agro</td>\n",
       "      <td>Gas Natural</td>\n",
       "      <td>Catamarca</td>\n",
       "      <td>0.0</td>\n",
       "      <td>2010-01-01</td>\n",
       "    </tr>\n",
       "    <tr>\n",
       "      <th>3</th>\n",
       "      <td>Agro</td>\n",
       "      <td>Gas Natural</td>\n",
       "      <td>Chaco</td>\n",
       "      <td>0.0</td>\n",
       "      <td>2010-01-01</td>\n",
       "    </tr>\n",
       "    <tr>\n",
       "      <th>4</th>\n",
       "      <td>Agro</td>\n",
       "      <td>Gas Natural</td>\n",
       "      <td>Chubut</td>\n",
       "      <td>0.0</td>\n",
       "      <td>2010-01-01</td>\n",
       "    </tr>\n",
       "    <tr>\n",
       "      <th>...</th>\n",
       "      <td>...</td>\n",
       "      <td>...</td>\n",
       "      <td>...</td>\n",
       "      <td>...</td>\n",
       "      <td>...</td>\n",
       "    </tr>\n",
       "    <tr>\n",
       "      <th>94654</th>\n",
       "      <td>transporte Público de Pasajeros</td>\n",
       "      <td>Nafta Grado 3 (Ultra)</td>\n",
       "      <td>Salta</td>\n",
       "      <td>0.0</td>\n",
       "      <td>2019-03-01</td>\n",
       "    </tr>\n",
       "    <tr>\n",
       "      <th>94655</th>\n",
       "      <td>transporte Público de Pasajeros</td>\n",
       "      <td>Nafta Grado 3 (Ultra)</td>\n",
       "      <td>San Juan</td>\n",
       "      <td>0.0</td>\n",
       "      <td>2019-03-01</td>\n",
       "    </tr>\n",
       "    <tr>\n",
       "      <th>94656</th>\n",
       "      <td>transporte Público de Pasajeros</td>\n",
       "      <td>Nafta Grado 3 (Ultra)</td>\n",
       "      <td>Santa Fe</td>\n",
       "      <td>0.0</td>\n",
       "      <td>2019-03-01</td>\n",
       "    </tr>\n",
       "    <tr>\n",
       "      <th>94657</th>\n",
       "      <td>transporte Público de Pasajeros</td>\n",
       "      <td>Nafta Grado 3 (Ultra)</td>\n",
       "      <td>Tierra del Fuego</td>\n",
       "      <td>0.0</td>\n",
       "      <td>2019-03-01</td>\n",
       "    </tr>\n",
       "    <tr>\n",
       "      <th>94658</th>\n",
       "      <td>transporte Público de Pasajeros</td>\n",
       "      <td>Nafta Grado 3 (Ultra)</td>\n",
       "      <td>Tucuman</td>\n",
       "      <td>0.0</td>\n",
       "      <td>2019-03-01</td>\n",
       "    </tr>\n",
       "  </tbody>\n",
       "</table>\n",
       "<p>94659 rows × 5 columns</p>\n",
       "</div>"
      ],
      "text/plain": [
       "                                sector               producto  \\\n",
       "0                                 Agro            Gas Natural   \n",
       "1                                 Agro            Gas Natural   \n",
       "2                                 Agro            Gas Natural   \n",
       "3                                 Agro            Gas Natural   \n",
       "4                                 Agro            Gas Natural   \n",
       "...                                ...                    ...   \n",
       "94654  transporte Público de Pasajeros  Nafta Grado 3 (Ultra)   \n",
       "94655  transporte Público de Pasajeros  Nafta Grado 3 (Ultra)   \n",
       "94656  transporte Público de Pasajeros  Nafta Grado 3 (Ultra)   \n",
       "94657  transporte Público de Pasajeros  Nafta Grado 3 (Ultra)   \n",
       "94658  transporte Público de Pasajeros  Nafta Grado 3 (Ultra)   \n",
       "\n",
       "              provincia  total      fecha  \n",
       "0          Buenos Aires    0.0 2010-01-01  \n",
       "1       Capital Federal    0.0 2010-01-01  \n",
       "2             Catamarca    0.0 2010-01-01  \n",
       "3                 Chaco    0.0 2010-01-01  \n",
       "4                Chubut    0.0 2010-01-01  \n",
       "...                 ...    ...        ...  \n",
       "94654             Salta    0.0 2019-03-01  \n",
       "94655          San Juan    0.0 2019-03-01  \n",
       "94656          Santa Fe    0.0 2019-03-01  \n",
       "94657  Tierra del Fuego    0.0 2019-03-01  \n",
       "94658           Tucuman    0.0 2019-03-01  \n",
       "\n",
       "[94659 rows x 5 columns]"
      ]
     },
     "execution_count": 118,
     "metadata": {},
     "output_type": "execute_result"
    }
   ],
   "source": [
    "cleaned_fuel_sales_monthly"
   ]
  },
  {
   "cell_type": "markdown",
   "id": "e2bc831f",
   "metadata": {},
   "source": [
    "## *LOADING DATA*"
   ]
  },
  {
   "cell_type": "code",
   "execution_count": 119,
   "id": "930ea1d0",
   "metadata": {},
   "outputs": [],
   "source": [
    "def merge_all_data(cleaned_crude_oil_df, cleaned_fuel_prices_monthly, cleaned_dolar_price_monthly, cleaned_fuel_sales_monthly):\n",
    "    merge1 = cleaned_fuel_prices_monthly.merge(cleaned_crude_oil_df, on='fecha', how='inner')\n",
    "    merge2 = merge1.merge(cleaned_dolar_price_monthly, on='fecha', how='inner')\n",
    "    merge3 = merge2.merge(cleaned_fuel_sales_monthly, on=['fecha', 'producto', 'provincia'], how='inner', suffixes=('', '_sales'))\n",
    "\n",
    "    logging.info(f\"All dataframes merged - Shape: {merge3.shape}\")\n",
    "\n",
    "    return merge3\n"
   ]
  },
  {
   "cell_type": "code",
   "execution_count": 120,
   "id": "0823d99c",
   "metadata": {},
   "outputs": [
    {
     "name": "stderr",
     "output_type": "stream",
     "text": [
      "INFO: All dataframes merged - Shape: (39530, 9)\n"
     ]
    }
   ],
   "source": [
    "merge_all_df = merge_all_data(cleaned_crude_oil_df, cleaned_fuel_prices_monthly, cleaned_dolar_price_monthly, cleaned_fuel_sales_monthly)"
   ]
  },
  {
   "cell_type": "code",
   "execution_count": 121,
   "id": "aa0d6643",
   "metadata": {},
   "outputs": [],
   "source": [
    "merge_all_df.to_csv('merged_data_to_check.csv', encoding='utf-8', index=False)"
   ]
  },
  {
   "cell_type": "code",
   "execution_count": 122,
   "id": "185eb343",
   "metadata": {},
   "outputs": [
    {
     "data": {
      "text/html": [
       "<div>\n",
       "<style scoped>\n",
       "    .dataframe tbody tr th:only-of-type {\n",
       "        vertical-align: middle;\n",
       "    }\n",
       "\n",
       "    .dataframe tbody tr th {\n",
       "        vertical-align: top;\n",
       "    }\n",
       "\n",
       "    .dataframe thead th {\n",
       "        text-align: right;\n",
       "    }\n",
       "</style>\n",
       "<table border=\"1\" class=\"dataframe\">\n",
       "  <thead>\n",
       "    <tr style=\"text-align: right;\">\n",
       "      <th></th>\n",
       "      <th>producto</th>\n",
       "      <th>provincia</th>\n",
       "      <th>precio_combustibles</th>\n",
       "      <th>fecha</th>\n",
       "      <th>precio_crudo</th>\n",
       "      <th>tipo</th>\n",
       "      <th>precio_dolar_venta</th>\n",
       "      <th>sector</th>\n",
       "      <th>total</th>\n",
       "    </tr>\n",
       "  </thead>\n",
       "  <tbody>\n",
       "    <tr>\n",
       "      <th>0</th>\n",
       "      <td>Gas Natural</td>\n",
       "      <td>Salta</td>\n",
       "      <td>11.030000</td>\n",
       "      <td>2016-02-01</td>\n",
       "      <td>33.762381</td>\n",
       "      <td>blue</td>\n",
       "      <td>14.827586</td>\n",
       "      <td>Agro</td>\n",
       "      <td>0.0</td>\n",
       "    </tr>\n",
       "    <tr>\n",
       "      <th>1</th>\n",
       "      <td>Gas Natural</td>\n",
       "      <td>Salta</td>\n",
       "      <td>11.030000</td>\n",
       "      <td>2016-02-01</td>\n",
       "      <td>33.762381</td>\n",
       "      <td>blue</td>\n",
       "      <td>14.827586</td>\n",
       "      <td>Al Público</td>\n",
       "      <td>0.0</td>\n",
       "    </tr>\n",
       "    <tr>\n",
       "      <th>2</th>\n",
       "      <td>Gas Natural</td>\n",
       "      <td>Salta</td>\n",
       "      <td>11.030000</td>\n",
       "      <td>2016-02-01</td>\n",
       "      <td>33.762381</td>\n",
       "      <td>blue</td>\n",
       "      <td>14.827586</td>\n",
       "      <td>Estado</td>\n",
       "      <td>0.0</td>\n",
       "    </tr>\n",
       "    <tr>\n",
       "      <th>3</th>\n",
       "      <td>Gas Natural</td>\n",
       "      <td>Salta</td>\n",
       "      <td>11.030000</td>\n",
       "      <td>2016-02-01</td>\n",
       "      <td>33.762381</td>\n",
       "      <td>blue</td>\n",
       "      <td>14.827586</td>\n",
       "      <td>Industrias Petroquímicas</td>\n",
       "      <td>0.0</td>\n",
       "    </tr>\n",
       "    <tr>\n",
       "      <th>4</th>\n",
       "      <td>Gas Natural</td>\n",
       "      <td>Salta</td>\n",
       "      <td>11.030000</td>\n",
       "      <td>2016-02-01</td>\n",
       "      <td>33.762381</td>\n",
       "      <td>blue</td>\n",
       "      <td>14.827586</td>\n",
       "      <td>Otras Empresas</td>\n",
       "      <td>0.0</td>\n",
       "    </tr>\n",
       "    <tr>\n",
       "      <th>...</th>\n",
       "      <td>...</td>\n",
       "      <td>...</td>\n",
       "      <td>...</td>\n",
       "      <td>...</td>\n",
       "      <td>...</td>\n",
       "      <td>...</td>\n",
       "      <td>...</td>\n",
       "      <td>...</td>\n",
       "      <td>...</td>\n",
       "    </tr>\n",
       "    <tr>\n",
       "      <th>39525</th>\n",
       "      <td>Nafta Grado 3 (Ultra)</td>\n",
       "      <td>Tucuman</td>\n",
       "      <td>52.620556</td>\n",
       "      <td>2019-03-01</td>\n",
       "      <td>66.941905</td>\n",
       "      <td>oficial</td>\n",
       "      <td>42.193548</td>\n",
       "      <td>Industrias Petroquímicas</td>\n",
       "      <td>0.0</td>\n",
       "    </tr>\n",
       "    <tr>\n",
       "      <th>39526</th>\n",
       "      <td>Nafta Grado 3 (Ultra)</td>\n",
       "      <td>Tucuman</td>\n",
       "      <td>52.620556</td>\n",
       "      <td>2019-03-01</td>\n",
       "      <td>66.941905</td>\n",
       "      <td>oficial</td>\n",
       "      <td>42.193548</td>\n",
       "      <td>Otras Empresas</td>\n",
       "      <td>16.0</td>\n",
       "    </tr>\n",
       "    <tr>\n",
       "      <th>39527</th>\n",
       "      <td>Nafta Grado 3 (Ultra)</td>\n",
       "      <td>Tucuman</td>\n",
       "      <td>52.620556</td>\n",
       "      <td>2019-03-01</td>\n",
       "      <td>66.941905</td>\n",
       "      <td>oficial</td>\n",
       "      <td>42.193548</td>\n",
       "      <td>Transporte de Carga</td>\n",
       "      <td>16.0</td>\n",
       "    </tr>\n",
       "    <tr>\n",
       "      <th>39528</th>\n",
       "      <td>Nafta Grado 3 (Ultra)</td>\n",
       "      <td>Tucuman</td>\n",
       "      <td>52.620556</td>\n",
       "      <td>2019-03-01</td>\n",
       "      <td>66.941905</td>\n",
       "      <td>oficial</td>\n",
       "      <td>42.193548</td>\n",
       "      <td>Usinas Eléctricas</td>\n",
       "      <td>0.0</td>\n",
       "    </tr>\n",
       "    <tr>\n",
       "      <th>39529</th>\n",
       "      <td>Nafta Grado 3 (Ultra)</td>\n",
       "      <td>Tucuman</td>\n",
       "      <td>52.620556</td>\n",
       "      <td>2019-03-01</td>\n",
       "      <td>66.941905</td>\n",
       "      <td>oficial</td>\n",
       "      <td>42.193548</td>\n",
       "      <td>transporte Público de Pasajeros</td>\n",
       "      <td>0.0</td>\n",
       "    </tr>\n",
       "  </tbody>\n",
       "</table>\n",
       "<p>39530 rows × 9 columns</p>\n",
       "</div>"
      ],
      "text/plain": [
       "                    producto provincia  precio_combustibles      fecha  \\\n",
       "0                Gas Natural     Salta            11.030000 2016-02-01   \n",
       "1                Gas Natural     Salta            11.030000 2016-02-01   \n",
       "2                Gas Natural     Salta            11.030000 2016-02-01   \n",
       "3                Gas Natural     Salta            11.030000 2016-02-01   \n",
       "4                Gas Natural     Salta            11.030000 2016-02-01   \n",
       "...                      ...       ...                  ...        ...   \n",
       "39525  Nafta Grado 3 (Ultra)   Tucuman            52.620556 2019-03-01   \n",
       "39526  Nafta Grado 3 (Ultra)   Tucuman            52.620556 2019-03-01   \n",
       "39527  Nafta Grado 3 (Ultra)   Tucuman            52.620556 2019-03-01   \n",
       "39528  Nafta Grado 3 (Ultra)   Tucuman            52.620556 2019-03-01   \n",
       "39529  Nafta Grado 3 (Ultra)   Tucuman            52.620556 2019-03-01   \n",
       "\n",
       "       precio_crudo     tipo  precio_dolar_venta  \\\n",
       "0         33.762381     blue           14.827586   \n",
       "1         33.762381     blue           14.827586   \n",
       "2         33.762381     blue           14.827586   \n",
       "3         33.762381     blue           14.827586   \n",
       "4         33.762381     blue           14.827586   \n",
       "...             ...      ...                 ...   \n",
       "39525     66.941905  oficial           42.193548   \n",
       "39526     66.941905  oficial           42.193548   \n",
       "39527     66.941905  oficial           42.193548   \n",
       "39528     66.941905  oficial           42.193548   \n",
       "39529     66.941905  oficial           42.193548   \n",
       "\n",
       "                                sector  total  \n",
       "0                                 Agro    0.0  \n",
       "1                           Al Público    0.0  \n",
       "2                               Estado    0.0  \n",
       "3             Industrias Petroquímicas    0.0  \n",
       "4                       Otras Empresas    0.0  \n",
       "...                                ...    ...  \n",
       "39525         Industrias Petroquímicas    0.0  \n",
       "39526                   Otras Empresas   16.0  \n",
       "39527              Transporte de Carga   16.0  \n",
       "39528                Usinas Eléctricas    0.0  \n",
       "39529  transporte Público de Pasajeros    0.0  \n",
       "\n",
       "[39530 rows x 9 columns]"
      ]
     },
     "execution_count": 122,
     "metadata": {},
     "output_type": "execute_result"
    }
   ],
   "source": [
    "merge_all_df"
   ]
  },
  {
   "cell_type": "code",
   "execution_count": 135,
   "id": "c761f197",
   "metadata": {},
   "outputs": [],
   "source": [
    "df_diario = merge_all_df.groupby('fecha').agg({\n",
    "    'precio_crudo': 'mean',\n",
    "    'precio_combustibles': 'mean'\n",
    "}).reset_index()"
   ]
  },
  {
   "cell_type": "code",
   "execution_count": 133,
   "id": "269abfb5",
   "metadata": {},
   "outputs": [
    {
     "data": {
      "text/plain": [
       "array(['Gas Natural', 'Gasoil Grado 2 (Común)', 'Nafta Grado 2 (Súper)',\n",
       "       'Nafta Grado 3 (Ultra)'], dtype=object)"
      ]
     },
     "execution_count": 133,
     "metadata": {},
     "output_type": "execute_result"
    }
   ],
   "source": [
    "merge_all_df.producto.unique()"
   ]
  },
  {
   "cell_type": "code",
   "execution_count": null,
   "id": "28c29c16",
   "metadata": {},
   "outputs": [
    {
     "data": {
      "image/png": "[encoded data removed]",
      "text/plain": [
       "<Figure size 1000x800 with 2 Axes>"
      ]
     },
     "metadata": {},
     "output_type": "display_data"
    }
   ],
   "source": [
    "numeric_df = merge_all_df[['precio_crudo', 'precio_combustibles', 'precio_dolar_venta', 'total']]\n",
    "\n",
    "correlation_matrix = numeric_df.corr()\n",
    "\n",
    "plt.figure(figsize=(10, 8))\n",
    "sns.heatmap(\n",
    "    correlation_matrix,\n",
    "    annot=True, \n",
    "    cmap='coolwarm',  \n",
    "    fmt=\".2f\",  \n",
    "    linewidths=.5  \n",
    ")\n",
    "\n",
    "plt.title('Mapa de Calor de la Matriz de Correlación')\n",
    "plt.show()"
   ]
  },
  {
   "cell_type": "code",
   "execution_count": null,
   "id": "279da03d",
   "metadata": {},
   "outputs": [],
   "source": []
  }
 ],
 "metadata": {
  "kernelspec": {
   "display_name": "base",
   "language": "python",
   "name": "python3"
  },
  "language_info": {
   "codemirror_mode": {
    "name": "ipython",
    "version": 3
   },
   "file_extension": ".py",
   "mimetype": "text/x-python",
   "name": "python",
   "nbconvert_exporter": "python",
   "pygments_lexer": "ipython3",
   "version": "3.12.7"
  }
 },
 "nbformat": 4,
 "nbformat_minor": 5
}
